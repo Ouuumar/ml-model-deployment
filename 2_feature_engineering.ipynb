{
 "cells": [
  {
   "cell_type": "code",
   "execution_count": 1,
   "id": "perfect-infrared",
   "metadata": {
    "execution": {
     "iopub.execute_input": "2021-11-25T16:52:53.225679Z",
     "iopub.status.busy": "2021-11-25T16:52:53.218681Z",
     "iopub.status.idle": "2021-11-25T16:52:53.234843Z",
     "shell.execute_reply": "2021-11-25T16:52:53.234843Z"
    },
    "papermill": {
     "duration": 0.033163,
     "end_time": "2021-11-25T16:52:53.234843",
     "exception": false,
     "start_time": "2021-11-25T16:52:53.201680",
     "status": "completed"
    },
    "tags": []
   },
   "outputs": [],
   "source": [
    "import warnings\n",
    "warnings.filterwarnings('ignore')"
   ]
  },
  {
   "cell_type": "code",
   "execution_count": 2,
   "id": "fourth-banking",
   "metadata": {
    "execution": {
     "iopub.execute_input": "2021-11-25T16:52:53.263841Z",
     "iopub.status.busy": "2021-11-25T16:52:53.262841Z",
     "iopub.status.idle": "2021-11-25T16:52:54.432359Z",
     "shell.execute_reply": "2021-11-25T16:52:54.432359Z"
    },
    "papermill": {
     "duration": 1.184512,
     "end_time": "2021-11-25T16:52:54.432359",
     "exception": false,
     "start_time": "2021-11-25T16:52:53.247847",
     "status": "completed"
    },
    "tags": []
   },
   "outputs": [],
   "source": [
    "import pandas as pd\n",
    "import os.path as path\n",
    "from pickle import dump\n",
    "\n",
    "from sklearn.model_selection import train_test_split\n",
    "from sklearn.preprocessing import StandardScaler\n",
    "from imblearn.over_sampling import RandomOverSampler\n",
    "from collections import Counter"
   ]
  },
  {
   "cell_type": "code",
   "execution_count": 3,
   "id": "integrated-promotion",
   "metadata": {
    "execution": {
     "iopub.execute_input": "2021-11-25T16:52:54.459048Z",
     "iopub.status.busy": "2021-11-25T16:52:54.458084Z",
     "iopub.status.idle": "2021-11-25T16:52:56.710878Z",
     "shell.execute_reply": "2021-11-25T16:52:56.710878Z"
    },
    "papermill": {
     "duration": 2.268516,
     "end_time": "2021-11-25T16:52:56.711878",
     "exception": false,
     "start_time": "2021-11-25T16:52:54.443362",
     "status": "completed"
    },
    "tags": []
   },
   "outputs": [],
   "source": [
    "df_X = pd.read_csv(path.join(\"2_dataprep\", \"prep_train_X.csv\"))\n",
    "df_y = pd.read_csv(path.join(\"2_dataprep\", \"prep_train_y.csv\"))"
   ]
  },
  {
   "cell_type": "code",
   "execution_count": 4,
   "id": "round-rating",
   "metadata": {
    "execution": {
     "iopub.execute_input": "2021-11-25T16:52:56.741404Z",
     "iopub.status.busy": "2021-11-25T16:52:56.740406Z",
     "iopub.status.idle": "2021-11-25T16:52:56.966408Z",
     "shell.execute_reply": "2021-11-25T16:52:56.967407Z"
    },
    "papermill": {
     "duration": 0.245003,
     "end_time": "2021-11-25T16:52:56.967407",
     "exception": false,
     "start_time": "2021-11-25T16:52:56.722404",
     "status": "completed"
    },
    "tags": []
   },
   "outputs": [],
   "source": [
    "# splitting here because of the dummies done before, if we reverse the algo, we may have troubles with shapes and columns \n",
    "X_train, X_test, y_train, y_test = train_test_split(df_X, df_y, test_size=0.33, random_state=42)"
   ]
  },
  {
   "cell_type": "markdown",
   "id": "political-mortality",
   "metadata": {
    "papermill": {
     "duration": 0.011002,
     "end_time": "2021-11-25T16:52:56.988409",
     "exception": false,
     "start_time": "2021-11-25T16:52:56.977407",
     "status": "completed"
    },
    "tags": []
   },
   "source": [
    "# Resampling data to balance the target"
   ]
  },
  {
   "cell_type": "code",
   "execution_count": 5,
   "id": "figured-making",
   "metadata": {
    "execution": {
     "iopub.execute_input": "2021-11-25T16:52:57.013404Z",
     "iopub.status.busy": "2021-11-25T16:52:57.013404Z",
     "iopub.status.idle": "2021-11-25T16:52:58.393788Z",
     "shell.execute_reply": "2021-11-25T16:52:58.394823Z"
    },
    "papermill": {
     "duration": 1.396417,
     "end_time": "2021-11-25T16:52:58.394823",
     "exception": false,
     "start_time": "2021-11-25T16:52:56.998406",
     "status": "completed"
    },
    "tags": []
   },
   "outputs": [],
   "source": [
    "over_sampler = RandomOverSampler(random_state=42)\n",
    "X_resamp, y_resamp = over_sampler.fit_resample(X_train, y_train)"
   ]
  },
  {
   "cell_type": "code",
   "execution_count": 6,
   "id": "anticipated-visibility",
   "metadata": {
    "execution": {
     "iopub.execute_input": "2021-11-25T16:52:58.423824Z",
     "iopub.status.busy": "2021-11-25T16:52:58.421793Z",
     "iopub.status.idle": "2021-11-25T16:52:59.041787Z",
     "shell.execute_reply": "2021-11-25T16:52:59.042784Z"
    },
    "papermill": {
     "duration": 0.636958,
     "end_time": "2021-11-25T16:52:59.042784",
     "exception": false,
     "start_time": "2021-11-25T16:52:58.405826",
     "status": "completed"
    },
    "tags": []
   },
   "outputs": [],
   "source": [
    "# fit and transform X train\n",
    "scaler = StandardScaler()\n",
    "scaler.fit(df_X)\n",
    "X_train_scaled = scaler.transform(X_resamp)"
   ]
  },
  {
   "cell_type": "code",
   "execution_count": 7,
   "id": "hourly-ocean",
   "metadata": {
    "execution": {
     "iopub.execute_input": "2021-11-25T16:52:59.071791Z",
     "iopub.status.busy": "2021-11-25T16:52:59.070787Z",
     "iopub.status.idle": "2021-11-25T16:52:59.151823Z",
     "shell.execute_reply": "2021-11-25T16:52:59.152830Z"
    },
    "papermill": {
     "duration": 0.099043,
     "end_time": "2021-11-25T16:52:59.152830",
     "exception": false,
     "start_time": "2021-11-25T16:52:59.053787",
     "status": "completed"
    },
    "tags": []
   },
   "outputs": [],
   "source": [
    "# we use the fit method from standarscaler, only for train dataframe, not for test\n",
    "# transform X test\n",
    "X_test_scaled = scaler.transform(X_test)"
   ]
  },
  {
   "cell_type": "code",
   "execution_count": 8,
   "id": "incredible-exchange",
   "metadata": {
    "execution": {
     "iopub.execute_input": "2021-11-25T16:52:59.179787Z",
     "iopub.status.busy": "2021-11-25T16:52:59.178787Z",
     "iopub.status.idle": "2021-11-25T16:52:59.184785Z",
     "shell.execute_reply": "2021-11-25T16:52:59.183787Z"
    },
    "papermill": {
     "duration": 0.021956,
     "end_time": "2021-11-25T16:52:59.184785",
     "exception": false,
     "start_time": "2021-11-25T16:52:59.162829",
     "status": "completed"
    },
    "tags": []
   },
   "outputs": [],
   "source": [
    "# create scaled dataframes \n",
    "X_train_scaled_resamp = pd.DataFrame(data=X_train_scaled, columns=X_train.columns)\n",
    "X_test_scaled = pd.DataFrame(data=X_test_scaled, columns=X_test.columns)\n",
    "y_train_resamp = pd.DataFrame(data=y_resamp,columns=y_resamp.columns)"
   ]
  },
  {
   "cell_type": "code",
   "execution_count": 9,
   "id": "lonely-encoding",
   "metadata": {
    "execution": {
     "iopub.execute_input": "2021-11-25T16:52:59.209824Z",
     "iopub.status.busy": "2021-11-25T16:52:59.208824Z",
     "iopub.status.idle": "2021-11-25T16:54:24.698639Z",
     "shell.execute_reply": "2021-11-25T16:54:24.698639Z"
    },
    "papermill": {
     "duration": 85.503817,
     "end_time": "2021-11-25T16:54:24.698639",
     "exception": false,
     "start_time": "2021-11-25T16:52:59.194822",
     "status": "completed"
    },
    "tags": []
   },
   "outputs": [],
   "source": [
    "# save X traind and test, scaled dataframes  \n",
    "X_train_scaled_resamp.to_csv(path.join(\"3_X_fitted_dataframe\", \"X_train_scaled_resamp.csv\"), index=False)\n",
    "X_test_scaled.to_csv(path.join(\"3_X_fitted_dataframe\", \"X_test_scaled.csv\"), index=False)\n",
    "# save y train and test dataframes\n",
    "y_train_resamp.to_csv(path.join(\"4_y_dataframe\", \"y_train_resamp.csv\"), index=False)\n",
    "y_test.to_csv(path.join(\"4_y_dataframe\", \"y_test.csv\"), index=False)"
   ]
  },
  {
   "cell_type": "code",
   "execution_count": 10,
   "id": "brief-jason",
   "metadata": {
    "execution": {
     "iopub.execute_input": "2021-11-25T16:54:24.724618Z",
     "iopub.status.busy": "2021-11-25T16:54:24.723652Z",
     "iopub.status.idle": "2021-11-25T16:54:24.729651Z",
     "shell.execute_reply": "2021-11-25T16:54:24.730648Z"
    },
    "papermill": {
     "duration": 0.020984,
     "end_time": "2021-11-25T16:54:24.730648",
     "exception": false,
     "start_time": "2021-11-25T16:54:24.709664",
     "status": "completed"
    },
    "tags": []
   },
   "outputs": [],
   "source": [
    "# save scaler in case of\n",
    "dump(scaler, open((path.join('5_fitted_scaler', 'scaler.pkl')), 'wb'))"
   ]
  }
 ],
 "metadata": {
  "interpreter": {
   "hash": "e2451e044033ce079ff6ade6403154a5557f0feb2168df54e5a5df33c651b5ee"
  },
  "kernelspec": {
   "display_name": "Python 3.7.0 64-bit",
   "name": "python3"
  },
  "language_info": {
   "codemirror_mode": {
    "name": "ipython",
    "version": 3
   },
   "file_extension": ".py",
   "mimetype": "text/x-python",
   "name": "python",
   "nbconvert_exporter": "python",
   "pygments_lexer": "ipython3",
   "version": "3.7.0"
  },
  "papermill": {
   "default_parameters": {},
   "duration": 93.259154,
   "end_time": "2021-11-25T16:54:25.171087",
   "environment_variables": {},
   "exception": null,
   "input_path": "2_feature_engineering.ipynb",
   "output_path": "2_feature_engineering.ipynb",
   "parameters": {},
   "start_time": "2021-11-25T16:52:51.911933",
   "version": "2.3.3"
  }
 },
 "nbformat": 4,
 "nbformat_minor": 5
}