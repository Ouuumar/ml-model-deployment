{
 "cells": [
  {
   "cell_type": "code",
   "execution_count": 1,
   "id": "perfect-infrared",
   "metadata": {
    "execution": {
     "iopub.execute_input": "2021-11-24T23:45:37.606752Z",
     "iopub.status.busy": "2021-11-24T23:45:37.605748Z",
     "iopub.status.idle": "2021-11-24T23:45:37.620298Z",
     "shell.execute_reply": "2021-11-24T23:45:37.620298Z"
    },
    "papermill": {
     "duration": 0.034586,
     "end_time": "2021-11-24T23:45:37.621337",
     "exception": false,
     "start_time": "2021-11-24T23:45:37.586751",
     "status": "completed"
    },
    "tags": []
   },
   "outputs": [],
   "source": [
    "import warnings\n",
    "warnings.filterwarnings('ignore')"
   ]
  },
  {
   "cell_type": "code",
   "execution_count": 2,
   "id": "fourth-banking",
   "metadata": {
    "execution": {
     "iopub.execute_input": "2021-11-24T23:45:37.647300Z",
     "iopub.status.busy": "2021-11-24T23:45:37.647300Z",
     "iopub.status.idle": "2021-11-24T23:45:38.885299Z",
     "shell.execute_reply": "2021-11-24T23:45:38.884299Z"
    },
    "papermill": {
     "duration": 1.253999,
     "end_time": "2021-11-24T23:45:38.885299",
     "exception": false,
     "start_time": "2021-11-24T23:45:37.631300",
     "status": "completed"
    },
    "tags": []
   },
   "outputs": [],
   "source": [
    "import pandas as pd\n",
    "import os.path as path\n",
    "from pickle import dump\n",
    "\n",
    "from sklearn.model_selection import train_test_split\n",
    "from sklearn.preprocessing import StandardScaler\n",
    "from imblearn.over_sampling import RandomOverSampler\n",
    "from collections import Counter"
   ]
  },
  {
   "cell_type": "code",
   "execution_count": 3,
   "id": "integrated-promotion",
   "metadata": {
    "execution": {
     "iopub.execute_input": "2021-11-24T23:45:38.914299Z",
     "iopub.status.busy": "2021-11-24T23:45:38.913299Z",
     "iopub.status.idle": "2021-11-24T23:45:41.015083Z",
     "shell.execute_reply": "2021-11-24T23:45:41.016084Z"
    },
    "papermill": {
     "duration": 2.119785,
     "end_time": "2021-11-24T23:45:41.016084",
     "exception": false,
     "start_time": "2021-11-24T23:45:38.896299",
     "status": "completed"
    },
    "tags": []
   },
   "outputs": [],
   "source": [
    "df_X = pd.read_csv(path.join(\"2_dataprep\", \"prep_train_X.csv\"))\n",
    "df_y = pd.read_csv(path.join(\"2_dataprep\", \"prep_train_y.csv\"))"
   ]
  },
  {
   "cell_type": "code",
   "execution_count": 4,
   "id": "round-rating",
   "metadata": {
    "execution": {
     "iopub.execute_input": "2021-11-24T23:45:41.047085Z",
     "iopub.status.busy": "2021-11-24T23:45:41.041089Z",
     "iopub.status.idle": "2021-11-24T23:45:41.268953Z",
     "shell.execute_reply": "2021-11-24T23:45:41.268953Z"
    },
    "papermill": {
     "duration": 0.241833,
     "end_time": "2021-11-24T23:45:41.268953",
     "exception": false,
     "start_time": "2021-11-24T23:45:41.027120",
     "status": "completed"
    },
    "tags": []
   },
   "outputs": [],
   "source": [
    "# splitting here because of the dummies done before, if we reverse the algo, we may have troubles with shapes and columns \n",
    "X_train, X_test, y_train, y_test = train_test_split(df_X, df_y, test_size=0.33, random_state=42)"
   ]
  },
  {
   "cell_type": "markdown",
   "id": "political-mortality",
   "metadata": {
    "papermill": {
     "duration": 0.011,
     "end_time": "2021-11-24T23:45:41.290951",
     "exception": false,
     "start_time": "2021-11-24T23:45:41.279951",
     "status": "completed"
    },
    "tags": []
   },
   "source": [
    "# Resampling data to balance the target"
   ]
  },
  {
   "cell_type": "code",
   "execution_count": 5,
   "id": "figured-making",
   "metadata": {
    "execution": {
     "iopub.execute_input": "2021-11-24T23:45:41.316991Z",
     "iopub.status.busy": "2021-11-24T23:45:41.314954Z",
     "iopub.status.idle": "2021-11-24T23:45:42.764952Z",
     "shell.execute_reply": "2021-11-24T23:45:42.765953Z"
    },
    "papermill": {
     "duration": 1.464003,
     "end_time": "2021-11-24T23:45:42.765953",
     "exception": false,
     "start_time": "2021-11-24T23:45:41.301950",
     "status": "completed"
    },
    "tags": []
   },
   "outputs": [],
   "source": [
    "over_sampler = RandomOverSampler(random_state=42)\n",
    "X_resamp, y_resamp = over_sampler.fit_resample(X_train, y_train)"
   ]
  },
  {
   "cell_type": "code",
   "execution_count": 6,
   "id": "anticipated-visibility",
   "metadata": {
    "execution": {
     "iopub.execute_input": "2021-11-24T23:45:42.796949Z",
     "iopub.status.busy": "2021-11-24T23:45:42.791952Z",
     "iopub.status.idle": "2021-11-24T23:45:43.430253Z",
     "shell.execute_reply": "2021-11-24T23:45:43.429221Z"
    },
    "papermill": {
     "duration": 0.653301,
     "end_time": "2021-11-24T23:45:43.430253",
     "exception": false,
     "start_time": "2021-11-24T23:45:42.776952",
     "status": "completed"
    },
    "tags": []
   },
   "outputs": [],
   "source": [
    "# fit and transform X train\n",
    "scaler = StandardScaler()\n",
    "scaler.fit(df_X)\n",
    "X_train_scaled = scaler.transform(X_resamp)"
   ]
  },
  {
   "cell_type": "code",
   "execution_count": 7,
   "id": "hourly-ocean",
   "metadata": {
    "execution": {
     "iopub.execute_input": "2021-11-24T23:45:43.460218Z",
     "iopub.status.busy": "2021-11-24T23:45:43.459218Z",
     "iopub.status.idle": "2021-11-24T23:45:43.540220Z",
     "shell.execute_reply": "2021-11-24T23:45:43.541219Z"
    },
    "papermill": {
     "duration": 0.100002,
     "end_time": "2021-11-24T23:45:43.541219",
     "exception": false,
     "start_time": "2021-11-24T23:45:43.441217",
     "status": "completed"
    },
    "tags": []
   },
   "outputs": [],
   "source": [
    "# we use the fit method from standarscaler, only for train dataframe, not for test\n",
    "# transform X test\n",
    "X_test_scaled = scaler.transform(X_test)"
   ]
  },
  {
   "cell_type": "code",
   "execution_count": 8,
   "id": "incredible-exchange",
   "metadata": {
    "execution": {
     "iopub.execute_input": "2021-11-24T23:45:43.569223Z",
     "iopub.status.busy": "2021-11-24T23:45:43.568220Z",
     "iopub.status.idle": "2021-11-24T23:45:43.573217Z",
     "shell.execute_reply": "2021-11-24T23:45:43.572218Z"
    },
    "papermill": {
     "duration": 0.021,
     "end_time": "2021-11-24T23:45:43.573217",
     "exception": false,
     "start_time": "2021-11-24T23:45:43.552217",
     "status": "completed"
    },
    "tags": []
   },
   "outputs": [],
   "source": [
    "# create scaled dataframes \n",
    "X_train_scaled_resamp = pd.DataFrame(data=X_train_scaled, columns=X_train.columns)\n",
    "X_test_scaled = pd.DataFrame(data=X_test_scaled, columns=X_test.columns)\n",
    "y_train_resamp = pd.DataFrame(data=y_resamp,columns=y_resamp.columns)"
   ]
  },
  {
   "cell_type": "code",
   "execution_count": 9,
   "id": "lonely-encoding",
   "metadata": {
    "execution": {
     "iopub.execute_input": "2021-11-24T23:45:43.599218Z",
     "iopub.status.busy": "2021-11-24T23:45:43.598216Z",
     "iopub.status.idle": "2021-11-24T23:47:19.944004Z",
     "shell.execute_reply": "2021-11-24T23:47:19.945004Z"
    },
    "papermill": {
     "duration": 96.361754,
     "end_time": "2021-11-24T23:47:19.945004",
     "exception": false,
     "start_time": "2021-11-24T23:45:43.583250",
     "status": "completed"
    },
    "tags": []
   },
   "outputs": [],
   "source": [
    "# save X traind and test, scaled dataframes  \n",
    "X_train_scaled_resamp.to_csv(path.join(\"3_X_fitted_dataframe\", \"X_train_scaled_resamp.csv\"), index=False)\n",
    "X_test_scaled.to_csv(path.join(\"3_X_fitted_dataframe\", \"X_test_scaled.csv\"), index=False)\n",
    "# save y train and test dataframes\n",
    "y_train_resamp.to_csv(path.join(\"4_y_dataframe\", \"y_train_resamp.csv\"), index=False)\n",
    "y_test.to_csv(path.join(\"4_y_dataframe\", \"y_test.csv\"), index=False)"
   ]
  },
  {
   "cell_type": "code",
   "execution_count": 10,
   "id": "brief-jason",
   "metadata": {
    "execution": {
     "iopub.execute_input": "2021-11-24T23:47:19.975008Z",
     "iopub.status.busy": "2021-11-24T23:47:19.974008Z",
     "iopub.status.idle": "2021-11-24T23:47:19.993006Z",
     "shell.execute_reply": "2021-11-24T23:47:19.993006Z"
    },
    "papermill": {
     "duration": 0.037003,
     "end_time": "2021-11-24T23:47:19.994007",
     "exception": false,
     "start_time": "2021-11-24T23:47:19.957004",
     "status": "completed"
    },
    "tags": []
   },
   "outputs": [],
   "source": [
    "# save scaler in case of\n",
    "dump(scaler, open((path.join('5_fitted_scaler', 'scaler.pkl')), 'wb'))"
   ]
  }
 ],
 "metadata": {
  "interpreter": {
   "hash": "e2451e044033ce079ff6ade6403154a5557f0feb2168df54e5a5df33c651b5ee"
  },
  "kernelspec": {
   "display_name": "Python 3.7.0 64-bit",
   "name": "python3"
  },
  "language_info": {
   "codemirror_mode": {
    "name": "ipython",
    "version": 3
   },
   "file_extension": ".py",
   "mimetype": "text/x-python",
   "name": "python",
   "nbconvert_exporter": "python",
   "pygments_lexer": "ipython3",
   "version": "3.7.0"
  },
  "papermill": {
   "default_parameters": {},
   "duration": 105.001325,
   "end_time": "2021-11-24T23:47:21.312991",
   "environment_variables": {},
   "exception": null,
   "input_path": "2_feature_engineering.ipynb",
   "output_path": "2_feature_engineering.ipynb",
   "parameters": {},
   "start_time": "2021-11-24T23:45:36.311666",
   "version": "2.3.3"
  }
 },
 "nbformat": 4,
 "nbformat_minor": 5
}