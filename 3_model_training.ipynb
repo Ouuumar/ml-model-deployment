{
 "cells": [
  {
   "cell_type": "code",
   "execution_count": 1,
   "id": "biological-organ",
   "metadata": {
    "execution": {
     "iopub.execute_input": "2021-11-25T16:54:26.527923Z",
     "iopub.status.busy": "2021-11-25T16:54:26.527923Z",
     "iopub.status.idle": "2021-11-25T16:54:26.545229Z",
     "shell.execute_reply": "2021-11-25T16:54:26.545229Z"
    },
    "papermill": {
     "duration": 0.035357,
     "end_time": "2021-11-25T16:54:26.546229",
     "exception": false,
     "start_time": "2021-11-25T16:54:26.510872",
     "status": "completed"
    },
    "tags": []
   },
   "outputs": [],
   "source": [
    "import warnings\n",
    "warnings.filterwarnings('ignore')"
   ]
  },
  {
   "cell_type": "code",
   "execution_count": 2,
   "id": "adverse-yeast",
   "metadata": {
    "execution": {
     "iopub.execute_input": "2021-11-25T16:54:26.567231Z",
     "iopub.status.busy": "2021-11-25T16:54:26.566232Z",
     "iopub.status.idle": "2021-11-25T16:54:28.391318Z",
     "shell.execute_reply": "2021-11-25T16:54:28.392317Z"
    },
    "papermill": {
     "duration": 1.838085,
     "end_time": "2021-11-25T16:54:28.392317",
     "exception": false,
     "start_time": "2021-11-25T16:54:26.554232",
     "status": "completed"
    },
    "tags": []
   },
   "outputs": [],
   "source": [
    "import pandas as pd \n",
    "from pickle import load\n",
    "import os.path as path\n",
    "from pickle import load, dump\n",
    "\n",
    "from sklearn.ensemble import RandomForestClassifier\n",
    "from sklearn.ensemble import GradientBoostingClassifier\n",
    "from xgboost import XGBClassifier"
   ]
  },
  {
   "cell_type": "code",
   "execution_count": 3,
   "id": "useful-lawyer",
   "metadata": {
    "execution": {
     "iopub.execute_input": "2021-11-25T16:54:28.414316Z",
     "iopub.status.busy": "2021-11-25T16:54:28.413316Z",
     "iopub.status.idle": "2021-11-25T16:54:38.567718Z",
     "shell.execute_reply": "2021-11-25T16:54:38.567718Z"
    },
    "papermill": {
     "duration": 10.167402,
     "end_time": "2021-11-25T16:54:38.567718",
     "exception": false,
     "start_time": "2021-11-25T16:54:28.400316",
     "status": "completed"
    },
    "tags": []
   },
   "outputs": [],
   "source": [
    "# load dataframes\n",
    "X_train_scaled_resamp = pd.read_csv(path.join(\"3_X_fitted_dataframe\", \"X_train_scaled_resamp.csv\"))\n",
    "y_train_resamp = pd.read_csv(path.join('4_y_dataframe', 'y_train_resamp.csv'))\n",
    "X_test_scaled = pd.read_csv(path.join(\"3_X_fitted_dataframe\", \"X_test_scaled.csv\"))\n",
    "y_test = pd.read_csv(path.join('4_y_dataframe', 'y_test.csv'))"
   ]
  },
  {
   "cell_type": "markdown",
   "id": "fe1fedab",
   "metadata": {
    "papermill": {
     "duration": 0.007997,
     "end_time": "2021-11-25T16:54:38.583718",
     "exception": false,
     "start_time": "2021-11-25T16:54:38.575721",
     "status": "completed"
    },
    "tags": []
   },
   "source": [
    "# We limit the depth of the models intentionnaly to take less time to fit\n",
    "## We remind that we are not focused on the model accuracy"
   ]
  },
  {
   "cell_type": "code",
   "execution_count": 4,
   "id": "standing-waste",
   "metadata": {
    "execution": {
     "iopub.execute_input": "2021-11-25T16:54:38.603681Z",
     "iopub.status.busy": "2021-11-25T16:54:38.603681Z",
     "iopub.status.idle": "2021-11-25T16:54:45.536390Z",
     "shell.execute_reply": "2021-11-25T16:54:45.537388Z"
    },
    "papermill": {
     "duration": 6.94567,
     "end_time": "2021-11-25T16:54:45.537388",
     "exception": false,
     "start_time": "2021-11-25T16:54:38.591718",
     "status": "completed"
    },
    "tags": []
   },
   "outputs": [
    {
     "name": "stdout",
     "output_type": "stream",
     "text": [
      "[17:54:39] WARNING: C:/Users/Administrator/workspace/xgboost-win64_release_1.5.0/src/learner.cc:1115: Starting in XGBoost 1.3.0, the default evaluation metric used with the objective 'binary:logistic' was changed from 'error' to 'logloss'. Explicitly set eval_metric if you'd like to restore the old behavior.\n"
     ]
    },
    {
     "data": {
      "text/plain": [
       "XGBClassifier(base_score=0.5, booster='gbtree', colsample_bylevel=1,\n",
       "              colsample_bynode=1, colsample_bytree=1, enable_categorical=False,\n",
       "              gamma=0, gpu_id=-1, importance_type=None,\n",
       "              interaction_constraints='', learning_rate=0.300000012,\n",
       "              max_delta_step=0, max_depth=1, min_child_weight=1, missing=nan,\n",
       "              monotone_constraints='()', n_estimators=100, n_jobs=12,\n",
       "              num_parallel_tree=1, predictor='auto', random_state=0,\n",
       "              reg_alpha=0, reg_lambda=1, scale_pos_weight=1, subsample=1,\n",
       "              tree_method='exact', validate_parameters=1, verbosity=None)"
      ]
     },
     "execution_count": 4,
     "metadata": {},
     "output_type": "execute_result"
    }
   ],
   "source": [
    "# fit xgboot model\n",
    "XGB_clf = XGBClassifier(max_depth=1)\n",
    "XGB_clf.fit(X_train_scaled_resamp, y_train_resamp)"
   ]
  },
  {
   "cell_type": "code",
   "execution_count": 5,
   "id": "direct-cricket",
   "metadata": {
    "execution": {
     "iopub.execute_input": "2021-11-25T16:54:45.567384Z",
     "iopub.status.busy": "2021-11-25T16:54:45.566387Z",
     "iopub.status.idle": "2021-11-25T16:54:49.630216Z",
     "shell.execute_reply": "2021-11-25T16:54:49.630216Z"
    },
    "papermill": {
     "duration": 4.080827,
     "end_time": "2021-11-25T16:54:49.630216",
     "exception": false,
     "start_time": "2021-11-25T16:54:45.549389",
     "status": "completed"
    },
    "tags": []
   },
   "outputs": [
    {
     "data": {
      "text/plain": [
       "RandomForestClassifier(max_depth=1)"
      ]
     },
     "execution_count": 5,
     "metadata": {},
     "output_type": "execute_result"
    }
   ],
   "source": [
    "# fit random forest model\n",
    "rf_clf = RandomForestClassifier(max_depth=1)\n",
    "rf_clf.fit(X_train_scaled_resamp, y_train_resamp)"
   ]
  },
  {
   "cell_type": "code",
   "execution_count": 6,
   "id": "polished-jefferson",
   "metadata": {
    "execution": {
     "iopub.execute_input": "2021-11-25T16:54:49.657216Z",
     "iopub.status.busy": "2021-11-25T16:54:49.656216Z",
     "iopub.status.idle": "2021-11-25T16:55:48.592009Z",
     "shell.execute_reply": "2021-11-25T16:55:48.592009Z"
    },
    "papermill": {
     "duration": 58.951794,
     "end_time": "2021-11-25T16:55:48.592009",
     "exception": false,
     "start_time": "2021-11-25T16:54:49.640215",
     "status": "completed"
    },
    "tags": []
   },
   "outputs": [
    {
     "data": {
      "text/plain": [
       "GradientBoostingClassifier(max_depth=1)"
      ]
     },
     "execution_count": 6,
     "metadata": {},
     "output_type": "execute_result"
    }
   ],
   "source": [
    "# fit Gradient boostinf model\n",
    "GBoost_clf = GradientBoostingClassifier(max_depth=1)\n",
    "GBoost_clf.fit(X_train_scaled_resamp, y_train_resamp)"
   ]
  },
  {
   "cell_type": "code",
   "execution_count": 7,
   "id": "ongoing-uruguay",
   "metadata": {
    "execution": {
     "iopub.execute_input": "2021-11-25T16:55:48.621972Z",
     "iopub.status.busy": "2021-11-25T16:55:48.619980Z",
     "iopub.status.idle": "2021-11-25T16:55:48.639971Z",
     "shell.execute_reply": "2021-11-25T16:55:48.639971Z"
    },
    "papermill": {
     "duration": 0.037966,
     "end_time": "2021-11-25T16:55:48.639971",
     "exception": false,
     "start_time": "2021-11-25T16:55:48.602005",
     "status": "completed"
    },
    "tags": []
   },
   "outputs": [],
   "source": [
    "# save models\n",
    "dump(rf_clf, open(path.join('6_models', 'randomForest.pkl'), 'wb'))\n",
    "dump(XGB_clf, open(path.join('6_models', 'xgBoost.pkl'), 'wb'))\n",
    "dump(GBoost_clf, open(path.join('6_models', 'GradientBoosting.pkl'), 'wb'))"
   ]
  }
 ],
 "metadata": {
  "interpreter": {
   "hash": "e2451e044033ce079ff6ade6403154a5557f0feb2168df54e5a5df33c651b5ee"
  },
  "kernelspec": {
   "display_name": "Python 3.7.0 64-bit",
   "name": "python3"
  },
  "language_info": {
   "codemirror_mode": {
    "name": "ipython",
    "version": 3
   },
   "file_extension": ".py",
   "mimetype": "text/x-python",
   "name": "python",
   "nbconvert_exporter": "python",
   "pygments_lexer": "ipython3",
   "version": "3.7.0"
  },
  "papermill": {
   "default_parameters": {},
   "duration": 83.908393,
   "end_time": "2021-11-25T16:55:49.112476",
   "environment_variables": {},
   "exception": null,
   "input_path": "3_model_training.ipynb",
   "output_path": "3_model_training.ipynb",
   "parameters": {},
   "start_time": "2021-11-25T16:54:25.204083",
   "version": "2.3.3"
  }
 },
 "nbformat": 4,
 "nbformat_minor": 5
}