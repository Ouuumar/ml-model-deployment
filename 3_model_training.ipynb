{
 "cells": [
  {
   "cell_type": "code",
   "execution_count": 1,
   "id": "biological-organ",
   "metadata": {
    "execution": {
     "iopub.execute_input": "2021-11-24T23:47:23.191279Z",
     "iopub.status.busy": "2021-11-24T23:47:23.191279Z",
     "iopub.status.idle": "2021-11-24T23:47:23.209281Z",
     "shell.execute_reply": "2021-11-24T23:47:23.210283Z"
    },
    "papermill": {
     "duration": 0.037006,
     "end_time": "2021-11-24T23:47:23.211283",
     "exception": false,
     "start_time": "2021-11-24T23:47:23.174277",
     "status": "completed"
    },
    "tags": []
   },
   "outputs": [],
   "source": [
    "import warnings\n",
    "warnings.filterwarnings('ignore')"
   ]
  },
  {
   "cell_type": "code",
   "execution_count": 2,
   "id": "adverse-yeast",
   "metadata": {
    "execution": {
     "iopub.execute_input": "2021-11-24T23:47:23.233287Z",
     "iopub.status.busy": "2021-11-24T23:47:23.232291Z",
     "iopub.status.idle": "2021-11-24T23:47:25.236734Z",
     "shell.execute_reply": "2021-11-24T23:47:25.237733Z"
    },
    "papermill": {
     "duration": 2.018417,
     "end_time": "2021-11-24T23:47:25.237733",
     "exception": false,
     "start_time": "2021-11-24T23:47:23.219316",
     "status": "completed"
    },
    "tags": []
   },
   "outputs": [],
   "source": [
    "import pandas as pd \n",
    "from pickle import load\n",
    "import os.path as path\n",
    "from pickle import load, dump\n",
    "\n",
    "from sklearn.ensemble import RandomForestClassifier\n",
    "from sklearn.ensemble import GradientBoostingClassifier\n",
    "from xgboost import XGBClassifier"
   ]
  },
  {
   "cell_type": "code",
   "execution_count": 3,
   "id": "useful-lawyer",
   "metadata": {
    "execution": {
     "iopub.execute_input": "2021-11-24T23:47:25.259731Z",
     "iopub.status.busy": "2021-11-24T23:47:25.256730Z",
     "iopub.status.idle": "2021-11-24T23:47:35.960575Z",
     "shell.execute_reply": "2021-11-24T23:47:35.959577Z"
    },
    "papermill": {
     "duration": 10.714843,
     "end_time": "2021-11-24T23:47:35.960575",
     "exception": false,
     "start_time": "2021-11-24T23:47:25.245732",
     "status": "completed"
    },
    "tags": []
   },
   "outputs": [],
   "source": [
    "# load dataframes\n",
    "X_train_scaled_resamp = pd.read_csv(path.join(\"3_X_fitted_dataframe\", \"X_train_scaled_resamp.csv\"))\n",
    "y_train_resamp = pd.read_csv(path.join('4_y_dataframe', 'y_train_resamp.csv'))\n",
    "X_test_scaled = pd.read_csv(path.join(\"3_X_fitted_dataframe\", \"X_test_scaled.csv\"))\n",
    "y_test = pd.read_csv(path.join('4_y_dataframe', 'y_test.csv'))"
   ]
  },
  {
   "cell_type": "code",
   "execution_count": 4,
   "id": "standing-waste",
   "metadata": {
    "execution": {
     "iopub.execute_input": "2021-11-24T23:47:35.980581Z",
     "iopub.status.busy": "2021-11-24T23:47:35.980581Z",
     "iopub.status.idle": "2021-11-24T23:47:44.073038Z",
     "shell.execute_reply": "2021-11-24T23:47:44.073571Z"
    },
    "papermill": {
     "duration": 8.105464,
     "end_time": "2021-11-24T23:47:44.074040",
     "exception": false,
     "start_time": "2021-11-24T23:47:35.968576",
     "status": "completed"
    },
    "tags": []
   },
   "outputs": [
    {
     "name": "stdout",
     "output_type": "stream",
     "text": [
      "[00:47:36] WARNING: C:/Users/Administrator/workspace/xgboost-win64_release_1.5.0/src/learner.cc:1115: Starting in XGBoost 1.3.0, the default evaluation metric used with the objective 'binary:logistic' was changed from 'error' to 'logloss'. Explicitly set eval_metric if you'd like to restore the old behavior.\n"
     ]
    },
    {
     "data": {
      "text/plain": [
       "XGBClassifier(base_score=0.5, booster='gbtree', colsample_bylevel=1,\n",
       "              colsample_bynode=1, colsample_bytree=1, enable_categorical=False,\n",
       "              gamma=0, gpu_id=-1, importance_type=None,\n",
       "              interaction_constraints='', learning_rate=0.300000012,\n",
       "              max_delta_step=0, max_depth=1, min_child_weight=1, missing=nan,\n",
       "              monotone_constraints='()', n_estimators=100, n_jobs=12,\n",
       "              num_parallel_tree=1, predictor='auto', random_state=0,\n",
       "              reg_alpha=0, reg_lambda=1, scale_pos_weight=1, subsample=1,\n",
       "              tree_method='exact', validate_parameters=1, verbosity=None)"
      ]
     },
     "execution_count": 4,
     "metadata": {},
     "output_type": "execute_result"
    }
   ],
   "source": [
    "# fit xgboot model\n",
    "XGB_clf = XGBClassifier(max_depth=1)\n",
    "XGB_clf.fit(X_train_scaled_resamp, y_train_resamp)"
   ]
  },
  {
   "cell_type": "code",
   "execution_count": 5,
   "id": "direct-cricket",
   "metadata": {
    "execution": {
     "iopub.execute_input": "2021-11-24T23:47:44.099042Z",
     "iopub.status.busy": "2021-11-24T23:47:44.094042Z",
     "iopub.status.idle": "2021-11-24T23:47:48.990020Z",
     "shell.execute_reply": "2021-11-24T23:47:48.989021Z"
    },
    "papermill": {
     "duration": 4.90698,
     "end_time": "2021-11-24T23:47:48.990020",
     "exception": false,
     "start_time": "2021-11-24T23:47:44.083040",
     "status": "completed"
    },
    "tags": []
   },
   "outputs": [
    {
     "data": {
      "text/plain": [
       "RandomForestClassifier(max_depth=1)"
      ]
     },
     "execution_count": 5,
     "metadata": {},
     "output_type": "execute_result"
    }
   ],
   "source": [
    "# fit random forest model\n",
    "rf_clf = RandomForestClassifier(max_depth=1)\n",
    "rf_clf.fit(X_train_scaled_resamp, y_train_resamp)"
   ]
  },
  {
   "cell_type": "code",
   "execution_count": 6,
   "id": "polished-jefferson",
   "metadata": {
    "execution": {
     "iopub.execute_input": "2021-11-24T23:47:49.018020Z",
     "iopub.status.busy": "2021-11-24T23:47:49.018020Z",
     "iopub.status.idle": "2021-11-24T23:48:48.073693Z",
     "shell.execute_reply": "2021-11-24T23:48:48.072692Z"
    },
    "papermill": {
     "duration": 59.074674,
     "end_time": "2021-11-24T23:48:48.073693",
     "exception": false,
     "start_time": "2021-11-24T23:47:48.999019",
     "status": "completed"
    },
    "tags": []
   },
   "outputs": [
    {
     "data": {
      "text/plain": [
       "GradientBoostingClassifier(max_depth=1)"
      ]
     },
     "execution_count": 6,
     "metadata": {},
     "output_type": "execute_result"
    }
   ],
   "source": [
    "# fit Gradient boostinf model\n",
    "GBoost_clf = GradientBoostingClassifier(max_depth=1)\n",
    "GBoost_clf.fit(X_train_scaled_resamp, y_train_resamp)"
   ]
  },
  {
   "cell_type": "code",
   "execution_count": 7,
   "id": "ongoing-uruguay",
   "metadata": {
    "execution": {
     "iopub.execute_input": "2021-11-24T23:48:48.097693Z",
     "iopub.status.busy": "2021-11-24T23:48:48.097693Z",
     "iopub.status.idle": "2021-11-24T23:48:48.121806Z",
     "shell.execute_reply": "2021-11-24T23:48:48.120810Z"
    },
    "papermill": {
     "duration": 0.038114,
     "end_time": "2021-11-24T23:48:48.121806",
     "exception": false,
     "start_time": "2021-11-24T23:48:48.083692",
     "status": "completed"
    },
    "tags": []
   },
   "outputs": [],
   "source": [
    "# save models\n",
    "dump(rf_clf, open(path.join('6_models', 'randomForest.pkl'), 'wb'))\n",
    "dump(XGB_clf, open(path.join('6_models', 'xgBoost.pkl'), 'wb'))\n",
    "dump(GBoost_clf, open(path.join('6_models', 'GradientBoosting.pkl'), 'wb'))"
   ]
  }
 ],
 "metadata": {
  "interpreter": {
   "hash": "e2451e044033ce079ff6ade6403154a5557f0feb2168df54e5a5df33c651b5ee"
  },
  "kernelspec": {
   "display_name": "Python 3.7.0 64-bit",
   "name": "python3"
  },
  "language_info": {
   "codemirror_mode": {
    "name": "ipython",
    "version": 3
   },
   "file_extension": ".py",
   "mimetype": "text/x-python",
   "name": "python",
   "nbconvert_exporter": "python",
   "pygments_lexer": "ipython3",
   "version": "3.7.0"
  },
  "papermill": {
   "default_parameters": {},
   "duration": 87.216221,
   "end_time": "2021-11-24T23:48:48.571216",
   "environment_variables": {},
   "exception": null,
   "input_path": "3_model_training.ipynb",
   "output_path": "3_model_training.ipynb",
   "parameters": {},
   "start_time": "2021-11-24T23:47:21.354995",
   "version": "2.3.3"
  }
 },
 "nbformat": 4,
 "nbformat_minor": 5
}