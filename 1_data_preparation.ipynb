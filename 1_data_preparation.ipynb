{
 "cells": [
  {
   "cell_type": "code",
   "execution_count": 49,
   "metadata": {},
   "outputs": [],
   "source": [
    "import warnings\n",
    "warnings.filterwarnings('ignore')"
   ]
  },
  {
   "cell_type": "code",
   "execution_count": 50,
   "metadata": {},
   "outputs": [],
   "source": [
    "import pandas as pd\n",
    "import numpy as np\n",
    "import os.path as path"
   ]
  },
  {
   "cell_type": "code",
   "execution_count": 51,
   "metadata": {},
   "outputs": [],
   "source": [
    "\"\"\" read the data for train and test\n",
    ":param train and test csv\n",
    "\"\"\"\n",
    "df_train = pd.read_csv(path.join('1_rawdata', 'application_train.csv'))\n",
    "df_test = pd.read_csv(path.join(\"1_rawdata\", \"application_test.csv\"))"
   ]
  },
  {
   "cell_type": "code",
   "execution_count": 52,
   "metadata": {},
   "outputs": [],
   "source": [
    "# concat before dummies\n",
    "df = pd.concat([df_train, df_test], axis=\"index\")\n",
    "\n",
    "# easy data preparation by dropping all nulls\n",
    "df = df.dropna(axis='index')"
   ]
  },
  {
   "cell_type": "code",
   "execution_count": 53,
   "metadata": {},
   "outputs": [],
   "source": [
    "# getting y\n",
    "df_y = pd.DataFrame(df.TARGET)"
   ]
  },
  {
   "cell_type": "code",
   "execution_count": 54,
   "metadata": {},
   "outputs": [],
   "source": [
    "# getting X\n",
    "df.drop(df[['TARGET']], axis=\"columns\",inplace=True)\n",
    "df_X = pd.get_dummies(df)"
   ]
  },
  {
   "cell_type": "code",
   "execution_count": 55,
   "metadata": {},
   "outputs": [
    {
     "name": "stdout",
     "output_type": "stream",
     "text": [
      "df_X :  (8602, 234) \n",
      "df_y :  (8602, 1)\n"
     ]
    }
   ],
   "source": [
    "# verifying shapes\n",
    "print(\"df_X : \", df_X.shape, \"\\ndf_y : \", df_y.shape)"
   ]
  },
  {
   "cell_type": "code",
   "execution_count": 56,
   "metadata": {},
   "outputs": [],
   "source": [
    "# store x and y\n",
    "df_X.to_csv(path.join(\"2_dataprep\", \"prep_train_X.csv\"), index=False)\n",
    "df_y.to_csv(path.join(\"2_dataprep\", \"prep_train_y.csv\"), index=False)"
   ]
  }
 ],
 "metadata": {
  "interpreter": {
   "hash": "e2451e044033ce079ff6ade6403154a5557f0feb2168df54e5a5df33c651b5ee"
  },
  "kernelspec": {
   "display_name": "Python 3.7.0 64-bit",
   "name": "python3"
  },
  "language_info": {
   "codemirror_mode": {
    "name": "ipython",
    "version": 3
   },
   "file_extension": ".py",
   "mimetype": "text/x-python",
   "name": "python",
   "nbconvert_exporter": "python",
   "pygments_lexer": "ipython3",
   "version": "3.7.0"
  },
  "orig_nbformat": 4
 },
 "nbformat": 4,
 "nbformat_minor": 2
}
