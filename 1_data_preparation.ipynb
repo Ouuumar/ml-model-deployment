{
 "cells": [
  {
   "cell_type": "code",
   "execution_count": 1,
   "id": "initial-sally",
   "metadata": {
    "execution": {
     "iopub.execute_input": "2021-11-24T23:45:07.803000Z",
     "iopub.status.busy": "2021-11-24T23:45:07.803000Z",
     "iopub.status.idle": "2021-11-24T23:45:07.816031Z",
     "shell.execute_reply": "2021-11-24T23:45:07.814996Z"
    },
    "papermill": {
     "duration": 0.051037,
     "end_time": "2021-11-24T23:45:07.816031",
     "exception": false,
     "start_time": "2021-11-24T23:45:07.764994",
     "status": "completed"
    },
    "tags": []
   },
   "outputs": [],
   "source": [
    "import warnings\n",
    "warnings.filterwarnings('ignore')"
   ]
  },
  {
   "cell_type": "code",
   "execution_count": 2,
   "id": "naughty-clearing",
   "metadata": {
    "execution": {
     "iopub.execute_input": "2021-11-24T23:45:07.892031Z",
     "iopub.status.busy": "2021-11-24T23:45:07.892031Z",
     "iopub.status.idle": "2021-11-24T23:45:08.372995Z",
     "shell.execute_reply": "2021-11-24T23:45:08.371996Z"
    },
    "papermill": {
     "duration": 0.52,
     "end_time": "2021-11-24T23:45:08.372995",
     "exception": false,
     "start_time": "2021-11-24T23:45:07.852995",
     "status": "completed"
    },
    "tags": []
   },
   "outputs": [],
   "source": [
    "import pandas as pd\n",
    "import numpy as np\n",
    "import os.path as path"
   ]
  },
  {
   "cell_type": "code",
   "execution_count": 3,
   "id": "emotional-referral",
   "metadata": {
    "execution": {
     "iopub.execute_input": "2021-11-24T23:45:08.436001Z",
     "iopub.status.busy": "2021-11-24T23:45:08.435013Z",
     "iopub.status.idle": "2021-11-24T23:45:12.885903Z",
     "shell.execute_reply": "2021-11-24T23:45:12.884904Z"
    },
    "papermill": {
     "duration": 4.485908,
     "end_time": "2021-11-24T23:45:12.885903",
     "exception": false,
     "start_time": "2021-11-24T23:45:08.399995",
     "status": "completed"
    },
    "tags": []
   },
   "outputs": [],
   "source": [
    "df_train = pd.read_csv(path.join('1_rawdata', 'application_train.csv'))\n",
    "df_test = pd.read_csv(path.join(\"1_rawdata\", \"application_test.csv\"))"
   ]
  },
  {
   "cell_type": "code",
   "execution_count": 4,
   "id": "positive-correlation",
   "metadata": {
    "execution": {
     "iopub.execute_input": "2021-11-24T23:45:12.944940Z",
     "iopub.status.busy": "2021-11-24T23:45:12.942942Z",
     "iopub.status.idle": "2021-11-24T23:45:13.309562Z",
     "shell.execute_reply": "2021-11-24T23:45:13.309562Z"
    },
    "papermill": {
     "duration": 0.396658,
     "end_time": "2021-11-24T23:45:13.309562",
     "exception": false,
     "start_time": "2021-11-24T23:45:12.912904",
     "status": "completed"
    },
    "tags": []
   },
   "outputs": [],
   "source": [
    "# concat before dummies\n",
    "df = pd.concat([df_train, df_test], axis=\"index\")\n",
    "\n",
    "# easy data preparation by dropping all nulls\n",
    "# df = df.dropna(axis='index')"
   ]
  },
  {
   "cell_type": "code",
   "execution_count": 5,
   "id": "beautiful-highway",
   "metadata": {
    "execution": {
     "iopub.execute_input": "2021-11-24T23:45:13.401563Z",
     "iopub.status.busy": "2021-11-24T23:45:13.400562Z",
     "iopub.status.idle": "2021-11-24T23:45:13.419561Z",
     "shell.execute_reply": "2021-11-24T23:45:13.420559Z"
    },
    "papermill": {
     "duration": 0.084,
     "end_time": "2021-11-24T23:45:13.420559",
     "exception": false,
     "start_time": "2021-11-24T23:45:13.336559",
     "status": "completed"
    },
    "tags": []
   },
   "outputs": [
    {
     "data": {
      "text/html": [
       "<div>\n",
       "<style scoped>\n",
       "    .dataframe tbody tr th:only-of-type {\n",
       "        vertical-align: middle;\n",
       "    }\n",
       "\n",
       "    .dataframe tbody tr th {\n",
       "        vertical-align: top;\n",
       "    }\n",
       "\n",
       "    .dataframe thead th {\n",
       "        text-align: right;\n",
       "    }\n",
       "</style>\n",
       "<table border=\"1\" class=\"dataframe\">\n",
       "  <thead>\n",
       "    <tr style=\"text-align: right;\">\n",
       "      <th></th>\n",
       "      <th>SK_ID_CURR</th>\n",
       "      <th>TARGET</th>\n",
       "      <th>NAME_CONTRACT_TYPE</th>\n",
       "      <th>CODE_GENDER</th>\n",
       "      <th>FLAG_OWN_CAR</th>\n",
       "      <th>FLAG_OWN_REALTY</th>\n",
       "      <th>CNT_CHILDREN</th>\n",
       "      <th>AMT_INCOME_TOTAL</th>\n",
       "      <th>AMT_CREDIT</th>\n",
       "      <th>AMT_ANNUITY</th>\n",
       "      <th>...</th>\n",
       "      <th>FLAG_DOCUMENT_18</th>\n",
       "      <th>FLAG_DOCUMENT_19</th>\n",
       "      <th>FLAG_DOCUMENT_20</th>\n",
       "      <th>FLAG_DOCUMENT_21</th>\n",
       "      <th>AMT_REQ_CREDIT_BUREAU_HOUR</th>\n",
       "      <th>AMT_REQ_CREDIT_BUREAU_DAY</th>\n",
       "      <th>AMT_REQ_CREDIT_BUREAU_WEEK</th>\n",
       "      <th>AMT_REQ_CREDIT_BUREAU_MON</th>\n",
       "      <th>AMT_REQ_CREDIT_BUREAU_QRT</th>\n",
       "      <th>AMT_REQ_CREDIT_BUREAU_YEAR</th>\n",
       "    </tr>\n",
       "  </thead>\n",
       "  <tbody>\n",
       "    <tr>\n",
       "      <th>0</th>\n",
       "      <td>100002</td>\n",
       "      <td>1.0</td>\n",
       "      <td>Cash loans</td>\n",
       "      <td>M</td>\n",
       "      <td>N</td>\n",
       "      <td>Y</td>\n",
       "      <td>0</td>\n",
       "      <td>202500.0</td>\n",
       "      <td>406597.5</td>\n",
       "      <td>24700.5</td>\n",
       "      <td>...</td>\n",
       "      <td>0</td>\n",
       "      <td>0</td>\n",
       "      <td>0</td>\n",
       "      <td>0</td>\n",
       "      <td>0.0</td>\n",
       "      <td>0.0</td>\n",
       "      <td>0.0</td>\n",
       "      <td>0.0</td>\n",
       "      <td>0.0</td>\n",
       "      <td>1.0</td>\n",
       "    </tr>\n",
       "    <tr>\n",
       "      <th>1</th>\n",
       "      <td>100003</td>\n",
       "      <td>0.0</td>\n",
       "      <td>Cash loans</td>\n",
       "      <td>F</td>\n",
       "      <td>N</td>\n",
       "      <td>N</td>\n",
       "      <td>0</td>\n",
       "      <td>270000.0</td>\n",
       "      <td>1293502.5</td>\n",
       "      <td>35698.5</td>\n",
       "      <td>...</td>\n",
       "      <td>0</td>\n",
       "      <td>0</td>\n",
       "      <td>0</td>\n",
       "      <td>0</td>\n",
       "      <td>0.0</td>\n",
       "      <td>0.0</td>\n",
       "      <td>0.0</td>\n",
       "      <td>0.0</td>\n",
       "      <td>0.0</td>\n",
       "      <td>0.0</td>\n",
       "    </tr>\n",
       "    <tr>\n",
       "      <th>2</th>\n",
       "      <td>100004</td>\n",
       "      <td>0.0</td>\n",
       "      <td>Revolving loans</td>\n",
       "      <td>M</td>\n",
       "      <td>Y</td>\n",
       "      <td>Y</td>\n",
       "      <td>0</td>\n",
       "      <td>67500.0</td>\n",
       "      <td>135000.0</td>\n",
       "      <td>6750.0</td>\n",
       "      <td>...</td>\n",
       "      <td>0</td>\n",
       "      <td>0</td>\n",
       "      <td>0</td>\n",
       "      <td>0</td>\n",
       "      <td>0.0</td>\n",
       "      <td>0.0</td>\n",
       "      <td>0.0</td>\n",
       "      <td>0.0</td>\n",
       "      <td>0.0</td>\n",
       "      <td>0.0</td>\n",
       "    </tr>\n",
       "    <tr>\n",
       "      <th>3</th>\n",
       "      <td>100006</td>\n",
       "      <td>0.0</td>\n",
       "      <td>Cash loans</td>\n",
       "      <td>F</td>\n",
       "      <td>N</td>\n",
       "      <td>Y</td>\n",
       "      <td>0</td>\n",
       "      <td>135000.0</td>\n",
       "      <td>312682.5</td>\n",
       "      <td>29686.5</td>\n",
       "      <td>...</td>\n",
       "      <td>0</td>\n",
       "      <td>0</td>\n",
       "      <td>0</td>\n",
       "      <td>0</td>\n",
       "      <td>NaN</td>\n",
       "      <td>NaN</td>\n",
       "      <td>NaN</td>\n",
       "      <td>NaN</td>\n",
       "      <td>NaN</td>\n",
       "      <td>NaN</td>\n",
       "    </tr>\n",
       "    <tr>\n",
       "      <th>4</th>\n",
       "      <td>100007</td>\n",
       "      <td>0.0</td>\n",
       "      <td>Cash loans</td>\n",
       "      <td>M</td>\n",
       "      <td>N</td>\n",
       "      <td>Y</td>\n",
       "      <td>0</td>\n",
       "      <td>121500.0</td>\n",
       "      <td>513000.0</td>\n",
       "      <td>21865.5</td>\n",
       "      <td>...</td>\n",
       "      <td>0</td>\n",
       "      <td>0</td>\n",
       "      <td>0</td>\n",
       "      <td>0</td>\n",
       "      <td>0.0</td>\n",
       "      <td>0.0</td>\n",
       "      <td>0.0</td>\n",
       "      <td>0.0</td>\n",
       "      <td>0.0</td>\n",
       "      <td>0.0</td>\n",
       "    </tr>\n",
       "  </tbody>\n",
       "</table>\n",
       "<p>5 rows × 122 columns</p>\n",
       "</div>"
      ],
      "text/plain": [
       "   SK_ID_CURR  TARGET NAME_CONTRACT_TYPE CODE_GENDER FLAG_OWN_CAR  \\\n",
       "0      100002     1.0         Cash loans           M            N   \n",
       "1      100003     0.0         Cash loans           F            N   \n",
       "2      100004     0.0    Revolving loans           M            Y   \n",
       "3      100006     0.0         Cash loans           F            N   \n",
       "4      100007     0.0         Cash loans           M            N   \n",
       "\n",
       "  FLAG_OWN_REALTY  CNT_CHILDREN  AMT_INCOME_TOTAL  AMT_CREDIT  AMT_ANNUITY  \\\n",
       "0               Y             0          202500.0    406597.5      24700.5   \n",
       "1               N             0          270000.0   1293502.5      35698.5   \n",
       "2               Y             0           67500.0    135000.0       6750.0   \n",
       "3               Y             0          135000.0    312682.5      29686.5   \n",
       "4               Y             0          121500.0    513000.0      21865.5   \n",
       "\n",
       "   ...  FLAG_DOCUMENT_18 FLAG_DOCUMENT_19 FLAG_DOCUMENT_20 FLAG_DOCUMENT_21  \\\n",
       "0  ...                 0                0                0                0   \n",
       "1  ...                 0                0                0                0   \n",
       "2  ...                 0                0                0                0   \n",
       "3  ...                 0                0                0                0   \n",
       "4  ...                 0                0                0                0   \n",
       "\n",
       "  AMT_REQ_CREDIT_BUREAU_HOUR AMT_REQ_CREDIT_BUREAU_DAY  \\\n",
       "0                        0.0                       0.0   \n",
       "1                        0.0                       0.0   \n",
       "2                        0.0                       0.0   \n",
       "3                        NaN                       NaN   \n",
       "4                        0.0                       0.0   \n",
       "\n",
       "   AMT_REQ_CREDIT_BUREAU_WEEK  AMT_REQ_CREDIT_BUREAU_MON  \\\n",
       "0                         0.0                        0.0   \n",
       "1                         0.0                        0.0   \n",
       "2                         0.0                        0.0   \n",
       "3                         NaN                        NaN   \n",
       "4                         0.0                        0.0   \n",
       "\n",
       "   AMT_REQ_CREDIT_BUREAU_QRT  AMT_REQ_CREDIT_BUREAU_YEAR  \n",
       "0                        0.0                         1.0  \n",
       "1                        0.0                         0.0  \n",
       "2                        0.0                         0.0  \n",
       "3                        NaN                         NaN  \n",
       "4                        0.0                         0.0  \n",
       "\n",
       "[5 rows x 122 columns]"
      ]
     },
     "execution_count": 5,
     "metadata": {},
     "output_type": "execute_result"
    }
   ],
   "source": [
    "df.head()"
   ]
  },
  {
   "cell_type": "code",
   "execution_count": 6,
   "id": "moved-spouse",
   "metadata": {
    "execution": {
     "iopub.execute_input": "2021-11-24T23:45:13.480560Z",
     "iopub.status.busy": "2021-11-24T23:45:13.479560Z",
     "iopub.status.idle": "2021-11-24T23:45:13.484560Z",
     "shell.execute_reply": "2021-11-24T23:45:13.484560Z"
    },
    "papermill": {
     "duration": 0.037002,
     "end_time": "2021-11-24T23:45:13.484560",
     "exception": false,
     "start_time": "2021-11-24T23:45:13.447558",
     "status": "completed"
    },
    "tags": []
   },
   "outputs": [
    {
     "data": {
      "text/plain": [
       "(356255, 122)"
      ]
     },
     "execution_count": 6,
     "metadata": {},
     "output_type": "execute_result"
    }
   ],
   "source": [
    "df.shape"
   ]
  },
  {
   "cell_type": "markdown",
   "id": "suitable-island",
   "metadata": {
    "papermill": {
     "duration": 0.029999,
     "end_time": "2021-11-24T23:45:13.542559",
     "exception": false,
     "start_time": "2021-11-24T23:45:13.512560",
     "status": "completed"
    },
    "tags": []
   },
   "source": [
    "# Display columns with missing data only"
   ]
  },
  {
   "cell_type": "code",
   "execution_count": 7,
   "id": "thick-venezuela",
   "metadata": {
    "execution": {
     "iopub.execute_input": "2021-11-24T23:45:13.605562Z",
     "iopub.status.busy": "2021-11-24T23:45:13.602562Z",
     "iopub.status.idle": "2021-11-24T23:45:13.994560Z",
     "shell.execute_reply": "2021-11-24T23:45:13.995564Z"
    },
    "papermill": {
     "duration": 0.425004,
     "end_time": "2021-11-24T23:45:13.995564",
     "exception": false,
     "start_time": "2021-11-24T23:45:13.570560",
     "status": "completed"
    },
    "tags": []
   },
   "outputs": [
    {
     "name": "stdout",
     "output_type": "stream",
     "text": [
      "TARGET - 14%\n",
      "AMT_ANNUITY - 0%\n",
      "AMT_GOODS_PRICE - 0%\n",
      "NAME_TYPE_SUITE - 1%\n",
      "OWN_CAR_AGE - 66%\n",
      "OCCUPATION_TYPE - 31%\n",
      "CNT_FAM_MEMBERS - 0%\n",
      "EXT_SOURCE_1 - 54%\n"
     ]
    },
    {
     "name": "stdout",
     "output_type": "stream",
     "text": [
      "EXT_SOURCE_2 - 0%\n",
      "EXT_SOURCE_3 - 20%\n",
      "APARTMENTS_AVG - 51%\n",
      "BASEMENTAREA_AVG - 58%\n",
      "YEARS_BEGINEXPLUATATION_AVG - 49%\n",
      "YEARS_BUILD_AVG - 66%\n",
      "COMMONAREA_AVG - 70%\n",
      "ELEVATORS_AVG - 53%\n",
      "ENTRANCES_AVG - 50%\n",
      "FLOORSMAX_AVG - 49%\n",
      "FLOORSMIN_AVG - 68%\n",
      "LANDAREA_AVG - 59%\n",
      "LIVINGAPARTMENTS_AVG - 68%\n",
      "LIVINGAREA_AVG - 50%\n",
      "NONLIVINGAPARTMENTS_AVG - 69%\n",
      "NONLIVINGAREA_AVG - 55%\n",
      "APARTMENTS_MODE - 51%\n",
      "BASEMENTAREA_MODE - 58%\n",
      "YEARS_BEGINEXPLUATATION_MODE - 49%\n",
      "YEARS_BUILD_MODE - 66%\n",
      "COMMONAREA_MODE - 70%\n",
      "ELEVATORS_MODE - 53%\n",
      "ENTRANCES_MODE - 50%\n",
      "FLOORSMAX_MODE - 49%\n",
      "FLOORSMIN_MODE - 68%\n",
      "LANDAREA_MODE - 59%\n",
      "LIVINGAPARTMENTS_MODE - 68%\n",
      "LIVINGAREA_MODE - 50%\n",
      "NONLIVINGAPARTMENTS_MODE - 69%\n",
      "NONLIVINGAREA_MODE - 55%\n",
      "APARTMENTS_MEDI - 51%\n",
      "BASEMENTAREA_MEDI - 58%\n",
      "YEARS_BEGINEXPLUATATION_MEDI - 49%\n",
      "YEARS_BUILD_MEDI - 66%\n",
      "COMMONAREA_MEDI - 70%\n",
      "ELEVATORS_MEDI - 53%\n",
      "ENTRANCES_MEDI - 50%\n",
      "FLOORSMAX_MEDI - 49%\n",
      "FLOORSMIN_MEDI - 68%\n",
      "LANDAREA_MEDI - 59%\n",
      "LIVINGAPARTMENTS_MEDI - 68%\n",
      "LIVINGAREA_MEDI - 50%\n",
      "NONLIVINGAPARTMENTS_MEDI - 69%\n",
      "NONLIVINGAREA_MEDI - 55%\n",
      "FONDKAPREMONT_MODE - 68%\n",
      "HOUSETYPE_MODE - 50%\n",
      "TOTALAREA_MODE - 48%\n",
      "WALLSMATERIAL_MODE - 51%\n",
      "EMERGENCYSTATE_MODE - 47%\n",
      "OBS_30_CNT_SOCIAL_CIRCLE - 0%\n",
      "DEF_30_CNT_SOCIAL_CIRCLE - 0%\n",
      "OBS_60_CNT_SOCIAL_CIRCLE - 0%\n",
      "DEF_60_CNT_SOCIAL_CIRCLE - 0%\n",
      "DAYS_LAST_PHONE_CHANGE - 0%\n",
      "AMT_REQ_CREDIT_BUREAU_HOUR - 13%\n",
      "AMT_REQ_CREDIT_BUREAU_DAY - 13%\n",
      "AMT_REQ_CREDIT_BUREAU_WEEK - 13%\n",
      "AMT_REQ_CREDIT_BUREAU_MON - 13%\n",
      "AMT_REQ_CREDIT_BUREAU_QRT - 13%\n",
      "AMT_REQ_CREDIT_BUREAU_YEAR - 13%\n"
     ]
    }
   ],
   "source": [
    "# if it's a larger dataset and the visualization takes too long can do this.\n",
    "# % of missing.\n",
    "for col in df.columns:\n",
    "    pct_missing = np.mean(df[col].isnull())\n",
    "    if pct_missing > 0.0: # show only the columns with missing data\n",
    "        print('{} - {}%'.format(col, round(pct_missing*100)))"
   ]
  },
  {
   "cell_type": "code",
   "execution_count": 8,
   "id": "funny-biotechnology",
   "metadata": {
    "execution": {
     "iopub.execute_input": "2021-11-24T23:45:14.059561Z",
     "iopub.status.busy": "2021-11-24T23:45:14.058561Z",
     "iopub.status.idle": "2021-11-24T23:45:14.533552Z",
     "shell.execute_reply": "2021-11-24T23:45:14.534552Z"
    },
    "papermill": {
     "duration": 0.508993,
     "end_time": "2021-11-24T23:45:14.534552",
     "exception": false,
     "start_time": "2021-11-24T23:45:14.025559",
     "status": "completed"
    },
    "tags": []
   },
   "outputs": [],
   "source": [
    "# we drop the missing value in the target\n",
    "df.dropna(subset = ['TARGET'], inplace=True)"
   ]
  },
  {
   "cell_type": "markdown",
   "id": "presidential-domestic",
   "metadata": {
    "papermill": {
     "duration": 0.029004,
     "end_time": "2021-11-24T23:45:14.592557",
     "exception": false,
     "start_time": "2021-11-24T23:45:14.563553",
     "status": "completed"
    },
    "tags": []
   },
   "source": [
    "# Display number of missing values per observations"
   ]
  },
  {
   "cell_type": "code",
   "execution_count": 9,
   "id": "diagnostic-roommate",
   "metadata": {
    "execution": {
     "iopub.execute_input": "2021-11-24T23:45:14.657592Z",
     "iopub.status.busy": "2021-11-24T23:45:14.656594Z",
     "iopub.status.idle": "2021-11-24T23:45:16.117941Z",
     "shell.execute_reply": "2021-11-24T23:45:16.117941Z"
    },
    "papermill": {
     "duration": 1.496381,
     "end_time": "2021-11-24T23:45:16.117941",
     "exception": false,
     "start_time": "2021-11-24T23:45:14.621560",
     "status": "completed"
    },
    "tags": []
   },
   "outputs": [
    {
     "name": "stdout",
     "output_type": "stream",
     "text": [
      "created missing indicator for: AMT_ANNUITY\n",
      "created missing indicator for: AMT_GOODS_PRICE\n",
      "created missing indicator for: NAME_TYPE_SUITE\n",
      "created missing indicator for: OWN_CAR_AGE\n",
      "created missing indicator for: OCCUPATION_TYPE\n",
      "created missing indicator for: CNT_FAM_MEMBERS\n",
      "created missing indicator for: EXT_SOURCE_1\n",
      "created missing indicator for: EXT_SOURCE_2\n",
      "created missing indicator for: EXT_SOURCE_3\n",
      "created missing indicator for: APARTMENTS_AVG\n",
      "created missing indicator for: BASEMENTAREA_AVG\n",
      "created missing indicator for: YEARS_BEGINEXPLUATATION_AVG\n",
      "created missing indicator for: YEARS_BUILD_AVG\n",
      "created missing indicator for: COMMONAREA_AVG\n",
      "created missing indicator for: ELEVATORS_AVG\n",
      "created missing indicator for: ENTRANCES_AVG\n",
      "created missing indicator for: FLOORSMAX_AVG\n",
      "created missing indicator for: FLOORSMIN_AVG\n",
      "created missing indicator for: LANDAREA_AVG\n",
      "created missing indicator for: LIVINGAPARTMENTS_AVG\n",
      "created missing indicator for: LIVINGAREA_AVG\n",
      "created missing indicator for: NONLIVINGAPARTMENTS_AVG\n",
      "created missing indicator for: NONLIVINGAREA_AVG\n",
      "created missing indicator for: APARTMENTS_MODE\n",
      "created missing indicator for: BASEMENTAREA_MODE\n",
      "created missing indicator for: YEARS_BEGINEXPLUATATION_MODE\n",
      "created missing indicator for: YEARS_BUILD_MODE\n",
      "created missing indicator for: COMMONAREA_MODE\n",
      "created missing indicator for: ELEVATORS_MODE\n",
      "created missing indicator for: ENTRANCES_MODE\n",
      "created missing indicator for: FLOORSMAX_MODE\n",
      "created missing indicator for: FLOORSMIN_MODE\n"
     ]
    },
    {
     "name": "stdout",
     "output_type": "stream",
     "text": [
      "created missing indicator for: LANDAREA_MODE\n",
      "created missing indicator for: LIVINGAPARTMENTS_MODE\n",
      "created missing indicator for: LIVINGAREA_MODE\n",
      "created missing indicator for: NONLIVINGAPARTMENTS_MODE\n",
      "created missing indicator for: NONLIVINGAREA_MODE\n",
      "created missing indicator for: APARTMENTS_MEDI\n",
      "created missing indicator for: BASEMENTAREA_MEDI\n",
      "created missing indicator for: YEARS_BEGINEXPLUATATION_MEDI\n",
      "created missing indicator for: YEARS_BUILD_MEDI\n",
      "created missing indicator for: COMMONAREA_MEDI\n",
      "created missing indicator for: ELEVATORS_MEDI\n",
      "created missing indicator for: ENTRANCES_MEDI\n",
      "created missing indicator for: FLOORSMAX_MEDI\n",
      "created missing indicator for: FLOORSMIN_MEDI\n",
      "created missing indicator for: LANDAREA_MEDI\n",
      "created missing indicator for: LIVINGAPARTMENTS_MEDI\n",
      "created missing indicator for: LIVINGAREA_MEDI\n",
      "created missing indicator for: NONLIVINGAPARTMENTS_MEDI\n",
      "created missing indicator for: NONLIVINGAREA_MEDI\n",
      "created missing indicator for: FONDKAPREMONT_MODE\n",
      "created missing indicator for: HOUSETYPE_MODE\n",
      "created missing indicator for: TOTALAREA_MODE\n",
      "created missing indicator for: WALLSMATERIAL_MODE\n",
      "created missing indicator for: EMERGENCYSTATE_MODE\n",
      "created missing indicator for: OBS_30_CNT_SOCIAL_CIRCLE\n",
      "created missing indicator for: DEF_30_CNT_SOCIAL_CIRCLE\n",
      "created missing indicator for: OBS_60_CNT_SOCIAL_CIRCLE\n",
      "created missing indicator for: DEF_60_CNT_SOCIAL_CIRCLE\n",
      "created missing indicator for: DAYS_LAST_PHONE_CHANGE\n",
      "created missing indicator for: AMT_REQ_CREDIT_BUREAU_HOUR\n",
      "created missing indicator for: AMT_REQ_CREDIT_BUREAU_DAY\n",
      "created missing indicator for: AMT_REQ_CREDIT_BUREAU_WEEK\n",
      "created missing indicator for: AMT_REQ_CREDIT_BUREAU_MON\n",
      "created missing indicator for: AMT_REQ_CREDIT_BUREAU_QRT\n",
      "created missing indicator for: AMT_REQ_CREDIT_BUREAU_YEAR\n"
     ]
    },
    {
     "data": {
      "image/png": "[encoded data removed]",
      "text/plain": [
       "<Figure size 432x288 with 1 Axes>"
      ]
     },
     "metadata": {
      "needs_background": "light"
     },
     "output_type": "display_data"
    }
   ],
   "source": [
    "def missingplot(df):\n",
    "    # first create missing indicator for features with missing data\n",
    "    for col in df.columns:\n",
    "        missing = df[col].isnull()\n",
    "        num_missing = np.sum(missing)\n",
    "        \n",
    "        if num_missing > 0:  \n",
    "            print('created missing indicator for: {}'.format(col))\n",
    "            df['{}_ismissing'.format(col)] = missing\n",
    "\n",
    "\n",
    "    # then based on the indicator, plot the histogram of missing values\n",
    "    ismissing_cols = [col for col in df.columns if 'ismissing' in col]\n",
    "    df['num_missing'] = df[ismissing_cols].sum(axis=1)\n",
    "\n",
    "    df['num_missing'].value_counts().reset_index().sort_values(by='index').plot.bar(x='index', y='num_missing')\n",
    "    \n",
    "missingplot(df)"
   ]
  },
  {
   "cell_type": "code",
   "execution_count": 10,
   "id": "controlled-status",
   "metadata": {
    "execution": {
     "iopub.execute_input": "2021-11-24T23:45:16.184942Z",
     "iopub.status.busy": "2021-11-24T23:45:16.184942Z",
     "iopub.status.idle": "2021-11-24T23:45:19.283919Z",
     "shell.execute_reply": "2021-11-24T23:45:19.283919Z"
    },
    "papermill": {
     "duration": 3.133976,
     "end_time": "2021-11-24T23:45:19.283919",
     "exception": false,
     "start_time": "2021-11-24T23:45:16.149943",
     "status": "completed"
    },
    "tags": []
   },
   "outputs": [],
   "source": [
    "# drop rows with more than 52 missing values\n",
    "for i in range(52, 63):\n",
    "    ind_missing = df[df['num_missing'] == i].index\n",
    "    df = df.drop(ind_missing, axis=0)"
   ]
  },
  {
   "cell_type": "code",
   "execution_count": 11,
   "id": "comparative-monitoring",
   "metadata": {
    "execution": {
     "iopub.execute_input": "2021-11-24T23:45:19.349920Z",
     "iopub.status.busy": "2021-11-24T23:45:19.347956Z",
     "iopub.status.idle": "2021-11-24T23:45:19.915060Z",
     "shell.execute_reply": "2021-11-24T23:45:19.919060Z"
    },
    "papermill": {
     "duration": 0.605141,
     "end_time": "2021-11-24T23:45:19.920060",
     "exception": false,
     "start_time": "2021-11-24T23:45:19.314919",
     "status": "completed"
    },
    "tags": []
   },
   "outputs": [],
   "source": [
    "# drop rows with missing values\n",
    "for i in range(48, 50):\n",
    "    ind_missing = df[df['num_missing'] == i].index\n",
    "    df = df.drop(ind_missing, axis=0)"
   ]
  },
  {
   "cell_type": "code",
   "execution_count": 12,
   "id": "special-cameroon",
   "metadata": {
    "execution": {
     "iopub.execute_input": "2021-11-24T23:45:20.009060Z",
     "iopub.status.busy": "2021-11-24T23:45:20.008095Z",
     "iopub.status.idle": "2021-11-24T23:45:20.414061Z",
     "shell.execute_reply": "2021-11-24T23:45:20.415060Z"
    },
    "papermill": {
     "duration": 0.446998,
     "end_time": "2021-11-24T23:45:20.415060",
     "exception": false,
     "start_time": "2021-11-24T23:45:19.968062",
     "status": "completed"
    },
    "tags": []
   },
   "outputs": [],
   "source": [
    "# drop rows with missing values\n",
    "for i in range(1, 3):\n",
    "    ind_missing = df[df['num_missing'] == i].index\n",
    "    df = df.drop(ind_missing, axis=0)"
   ]
  },
  {
   "cell_type": "code",
   "execution_count": 13,
   "id": "instant-queue",
   "metadata": {
    "execution": {
     "iopub.execute_input": "2021-11-24T23:45:20.484065Z",
     "iopub.status.busy": "2021-11-24T23:45:20.483063Z",
     "iopub.status.idle": "2021-11-24T23:45:20.652062Z",
     "shell.execute_reply": "2021-11-24T23:45:20.653061Z"
    },
    "papermill": {
     "duration": 0.207964,
     "end_time": "2021-11-24T23:45:20.653061",
     "exception": false,
     "start_time": "2021-11-24T23:45:20.445097",
     "status": "completed"
    },
    "tags": []
   },
   "outputs": [],
   "source": [
    "# drop rows missing values\n",
    "ind_missing = df[df['num_missing'] == 47].index\n",
    "df = df.drop(ind_missing, axis=0)"
   ]
  },
  {
   "cell_type": "code",
   "execution_count": 14,
   "id": "rolled-preservation",
   "metadata": {
    "execution": {
     "iopub.execute_input": "2021-11-24T23:45:20.720065Z",
     "iopub.status.busy": "2021-11-24T23:45:20.719066Z",
     "iopub.status.idle": "2021-11-24T23:45:20.871059Z",
     "shell.execute_reply": "2021-11-24T23:45:20.871059Z"
    },
    "papermill": {
     "duration": 0.188964,
     "end_time": "2021-11-24T23:45:20.872059",
     "exception": false,
     "start_time": "2021-11-24T23:45:20.683095",
     "status": "completed"
    },
    "tags": []
   },
   "outputs": [],
   "source": [
    "# drop rows missing values\n",
    "ind_missing = df[df['num_missing'] == 50].index\n",
    "df = df.drop(ind_missing, axis=0)"
   ]
  },
  {
   "cell_type": "code",
   "execution_count": 15,
   "id": "desperate-telling",
   "metadata": {
    "execution": {
     "iopub.execute_input": "2021-11-24T23:45:20.938072Z",
     "iopub.status.busy": "2021-11-24T23:45:20.937075Z",
     "iopub.status.idle": "2021-11-24T23:45:21.074071Z",
     "shell.execute_reply": "2021-11-24T23:45:21.075071Z"
    },
    "papermill": {
     "duration": 0.173007,
     "end_time": "2021-11-24T23:45:21.075071",
     "exception": false,
     "start_time": "2021-11-24T23:45:20.902064",
     "status": "completed"
    },
    "tags": []
   },
   "outputs": [],
   "source": [
    "# drop rows missing values\n",
    "ind_missing = df[df['num_missing'] == 3].index\n",
    "df = df.drop(ind_missing, axis=0)"
   ]
  },
  {
   "cell_type": "code",
   "execution_count": 16,
   "id": "naked-cleveland",
   "metadata": {
    "execution": {
     "iopub.execute_input": "2021-11-24T23:45:21.140214Z",
     "iopub.status.busy": "2021-11-24T23:45:21.139213Z",
     "iopub.status.idle": "2021-11-24T23:45:21.153214Z",
     "shell.execute_reply": "2021-11-24T23:45:21.153214Z"
    },
    "papermill": {
     "duration": 0.049139,
     "end_time": "2021-11-24T23:45:21.154212",
     "exception": false,
     "start_time": "2021-11-24T23:45:21.105073",
     "status": "completed"
    },
    "tags": []
   },
   "outputs": [
    {
     "data": {
      "text/plain": [
       "(98491, 190)"
      ]
     },
     "execution_count": 16,
     "metadata": {},
     "output_type": "execute_result"
    }
   ],
   "source": [
    "df.shape"
   ]
  },
  {
   "cell_type": "code",
   "execution_count": 17,
   "id": "available-vietnam",
   "metadata": {
    "execution": {
     "iopub.execute_input": "2021-11-24T23:45:21.220246Z",
     "iopub.status.busy": "2021-11-24T23:45:21.219216Z",
     "iopub.status.idle": "2021-11-24T23:45:21.409214Z",
     "shell.execute_reply": "2021-11-24T23:45:21.410218Z"
    },
    "papermill": {
     "duration": 0.226003,
     "end_time": "2021-11-24T23:45:21.410218",
     "exception": false,
     "start_time": "2021-11-24T23:45:21.184215",
     "status": "completed"
    },
    "tags": []
   },
   "outputs": [
    {
     "name": "stdout",
     "output_type": "stream",
     "text": [
      "AMT_ANNUITY - 0%\n",
      "AMT_GOODS_PRICE - 0%\n",
      "NAME_TYPE_SUITE - 1%\n",
      "OWN_CAR_AGE - 64%\n",
      "OCCUPATION_TYPE - 31%\n",
      "CNT_FAM_MEMBERS - 0%\n",
      "EXT_SOURCE_1 - 52%\n",
      "EXT_SOURCE_2 - 0%\n",
      "EXT_SOURCE_3 - 27%\n",
      "APARTMENTS_AVG - 9%\n",
      "BASEMENTAREA_AVG - 33%\n",
      "YEARS_BEGINEXPLUATATION_AVG - 3%\n",
      "YEARS_BUILD_AVG - 58%\n",
      "COMMONAREA_AVG - 69%\n",
      "ELEVATORS_AVG - 17%\n",
      "ENTRANCES_AVG - 8%\n",
      "FLOORSMAX_AVG - 6%\n",
      "FLOORSMIN_AVG - 63%\n",
      "LANDAREA_AVG - 36%\n",
      "LIVINGAPARTMENTS_AVG - 64%\n",
      "LIVINGAREA_AVG - 8%\n",
      "NONLIVINGAPARTMENTS_AVG - 67%\n",
      "NONLIVINGAREA_AVG - 23%\n",
      "APARTMENTS_MODE - 9%\n",
      "BASEMENTAREA_MODE - 33%\n",
      "YEARS_BEGINEXPLUATATION_MODE - 3%\n",
      "YEARS_BUILD_MODE - 58%\n",
      "COMMONAREA_MODE - 69%\n",
      "ELEVATORS_MODE - 17%\n",
      "ENTRANCES_MODE - 8%\n",
      "FLOORSMAX_MODE - 6%\n",
      "FLOORSMIN_MODE - 63%\n",
      "LANDAREA_MODE - 36%\n",
      "LIVINGAPARTMENTS_MODE - 64%\n",
      "LIVINGAREA_MODE - 8%\n",
      "NONLIVINGAPARTMENTS_MODE - 67%\n",
      "NONLIVINGAREA_MODE - 23%\n",
      "APARTMENTS_MEDI - 9%\n",
      "BASEMENTAREA_MEDI - 33%\n",
      "YEARS_BEGINEXPLUATATION_MEDI - 3%\n",
      "YEARS_BUILD_MEDI - 58%\n",
      "COMMONAREA_MEDI - 69%\n",
      "ELEVATORS_MEDI - 17%\n",
      "ENTRANCES_MEDI - 8%\n",
      "FLOORSMAX_MEDI - 6%\n",
      "FLOORSMIN_MEDI - 63%\n",
      "LANDAREA_MEDI - 36%\n",
      "LIVINGAPARTMENTS_MEDI - 64%\n",
      "LIVINGAREA_MEDI - 8%\n",
      "NONLIVINGAPARTMENTS_MEDI - 67%\n",
      "NONLIVINGAREA_MEDI - 23%\n",
      "FONDKAPREMONT_MODE - 62%\n",
      "HOUSETYPE_MODE - 7%\n",
      "TOTALAREA_MODE - 2%\n",
      "WALLSMATERIAL_MODE - 9%\n",
      "EMERGENCYSTATE_MODE - 2%\n",
      "OBS_30_CNT_SOCIAL_CIRCLE - 1%\n",
      "DEF_30_CNT_SOCIAL_CIRCLE - 1%\n",
      "OBS_60_CNT_SOCIAL_CIRCLE - 1%\n",
      "DEF_60_CNT_SOCIAL_CIRCLE - 1%\n",
      "DAYS_LAST_PHONE_CHANGE - 0%\n",
      "AMT_REQ_CREDIT_BUREAU_HOUR - 20%\n",
      "AMT_REQ_CREDIT_BUREAU_DAY - 20%\n",
      "AMT_REQ_CREDIT_BUREAU_WEEK - 20%\n",
      "AMT_REQ_CREDIT_BUREAU_MON - 20%\n",
      "AMT_REQ_CREDIT_BUREAU_QRT - 20%\n",
      "AMT_REQ_CREDIT_BUREAU_YEAR - 20%\n"
     ]
    }
   ],
   "source": [
    "# if it's a larger dataset and the visualization takes too long can do this.\n",
    "# % of missing.\n",
    "for col in df.columns:\n",
    "    pct_missing = np.mean(df[col].isnull())\n",
    "    if pct_missing > 0.0: # show only the columns with missing data\n",
    "        print('{} - {}%'.format(col, round(pct_missing*100)))"
   ]
  },
  {
   "cell_type": "code",
   "execution_count": 18,
   "id": "deluxe-protection",
   "metadata": {
    "execution": {
     "iopub.execute_input": "2021-11-24T23:45:21.508214Z",
     "iopub.status.busy": "2021-11-24T23:45:21.476247Z",
     "iopub.status.idle": "2021-11-24T23:45:21.897214Z",
     "shell.execute_reply": "2021-11-24T23:45:21.897214Z"
    },
    "papermill": {
     "duration": 0.455959,
     "end_time": "2021-11-24T23:45:21.898214",
     "exception": false,
     "start_time": "2021-11-24T23:45:21.442255",
     "status": "completed"
    },
    "tags": []
   },
   "outputs": [
    {
     "name": "stdout",
     "output_type": "stream",
     "text": [
      "imputing missing values for: AMT_ANNUITY\n",
      "imputing missing values for: AMT_GOODS_PRICE\n",
      "imputing missing values for: OWN_CAR_AGE\n",
      "imputing missing values for: CNT_FAM_MEMBERS\n",
      "imputing missing values for: EXT_SOURCE_1\n",
      "imputing missing values for: EXT_SOURCE_2\n",
      "imputing missing values for: EXT_SOURCE_3\n",
      "imputing missing values for: APARTMENTS_AVG\n",
      "imputing missing values for: BASEMENTAREA_AVG\n",
      "imputing missing values for: YEARS_BEGINEXPLUATATION_AVG\n",
      "imputing missing values for: YEARS_BUILD_AVG\n",
      "imputing missing values for: COMMONAREA_AVG\n",
      "imputing missing values for: ELEVATORS_AVG\n",
      "imputing missing values for: ENTRANCES_AVG\n",
      "imputing missing values for: FLOORSMAX_AVG\n",
      "imputing missing values for: FLOORSMIN_AVG\n",
      "imputing missing values for: LANDAREA_AVG\n",
      "imputing missing values for: LIVINGAPARTMENTS_AVG\n",
      "imputing missing values for: LIVINGAREA_AVG\n",
      "imputing missing values for: NONLIVINGAPARTMENTS_AVG\n",
      "imputing missing values for: NONLIVINGAREA_AVG\n",
      "imputing missing values for: APARTMENTS_MODE\n",
      "imputing missing values for: BASEMENTAREA_MODE\n",
      "imputing missing values for: YEARS_BEGINEXPLUATATION_MODE\n",
      "imputing missing values for: YEARS_BUILD_MODE\n",
      "imputing missing values for: COMMONAREA_MODE\n",
      "imputing missing values for: ELEVATORS_MODE\n",
      "imputing missing values for: ENTRANCES_MODE\n",
      "imputing missing values for: FLOORSMAX_MODE\n",
      "imputing missing values for: FLOORSMIN_MODE\n"
     ]
    },
    {
     "name": "stdout",
     "output_type": "stream",
     "text": [
      "imputing missing values for: LANDAREA_MODE\n",
      "imputing missing values for: LIVINGAPARTMENTS_MODE\n",
      "imputing missing values for: LIVINGAREA_MODE\n",
      "imputing missing values for: NONLIVINGAPARTMENTS_MODE\n",
      "imputing missing values for: NONLIVINGAREA_MODE\n",
      "imputing missing values for: APARTMENTS_MEDI\n",
      "imputing missing values for: BASEMENTAREA_MEDI\n",
      "imputing missing values for: YEARS_BEGINEXPLUATATION_MEDI\n",
      "imputing missing values for: YEARS_BUILD_MEDI\n",
      "imputing missing values for: COMMONAREA_MEDI\n",
      "imputing missing values for: ELEVATORS_MEDI\n",
      "imputing missing values for: ENTRANCES_MEDI\n",
      "imputing missing values for: FLOORSMAX_MEDI\n",
      "imputing missing values for: FLOORSMIN_MEDI\n",
      "imputing missing values for: LANDAREA_MEDI\n",
      "imputing missing values for: LIVINGAPARTMENTS_MEDI\n",
      "imputing missing values for: LIVINGAREA_MEDI\n",
      "imputing missing values for: NONLIVINGAPARTMENTS_MEDI\n",
      "imputing missing values for: NONLIVINGAREA_MEDI\n",
      "imputing missing values for: TOTALAREA_MODE\n",
      "imputing missing values for: OBS_30_CNT_SOCIAL_CIRCLE\n",
      "imputing missing values for: DEF_30_CNT_SOCIAL_CIRCLE\n",
      "imputing missing values for: OBS_60_CNT_SOCIAL_CIRCLE\n",
      "imputing missing values for: DEF_60_CNT_SOCIAL_CIRCLE\n",
      "imputing missing values for: DAYS_LAST_PHONE_CHANGE\n",
      "imputing missing values for: AMT_REQ_CREDIT_BUREAU_HOUR\n",
      "imputing missing values for: AMT_REQ_CREDIT_BUREAU_DAY\n",
      "imputing missing values for: AMT_REQ_CREDIT_BUREAU_WEEK\n",
      "imputing missing values for: AMT_REQ_CREDIT_BUREAU_MON\n",
      "imputing missing values for: AMT_REQ_CREDIT_BUREAU_QRT\n"
     ]
    },
    {
     "name": "stdout",
     "output_type": "stream",
     "text": [
      "imputing missing values for: AMT_REQ_CREDIT_BUREAU_YEAR\n"
     ]
    }
   ],
   "source": [
    "# impute the missing values and create the missing value indicator variables for each numeric column.\n",
    "df_numeric = df.select_dtypes(include=[np.number])\n",
    "numeric_cols = df_numeric.columns.values\n",
    "\n",
    "for col in numeric_cols:\n",
    "    missing = df[col].isnull()\n",
    "    num_missing = np.sum(missing)\n",
    "    \n",
    "    if num_missing > 0:  # only do the imputation for the columns that have missing values.\n",
    "        print('imputing missing values for: {}'.format(col))\n",
    "        df['{}_ismissing'.format(col)] = missing\n",
    "        med = df[col].median()\n",
    "        df[col] = df[col].fillna(med)"
   ]
  },
  {
   "cell_type": "code",
   "execution_count": 19,
   "id": "civil-square",
   "metadata": {
    "execution": {
     "iopub.execute_input": "2021-11-24T23:45:21.996249Z",
     "iopub.status.busy": "2021-11-24T23:45:21.971214Z",
     "iopub.status.idle": "2021-11-24T23:45:22.262251Z",
     "shell.execute_reply": "2021-11-24T23:45:22.261216Z"
    },
    "papermill": {
     "duration": 0.331037,
     "end_time": "2021-11-24T23:45:22.262251",
     "exception": false,
     "start_time": "2021-11-24T23:45:21.931214",
     "status": "completed"
    },
    "tags": []
   },
   "outputs": [
    {
     "name": "stdout",
     "output_type": "stream",
     "text": [
      "imputing missing values for: NAME_TYPE_SUITE\n",
      "imputing missing values for: OCCUPATION_TYPE\n"
     ]
    },
    {
     "name": "stdout",
     "output_type": "stream",
     "text": [
      "imputing missing values for: FONDKAPREMONT_MODE\n",
      "imputing missing values for: HOUSETYPE_MODE\n",
      "imputing missing values for: WALLSMATERIAL_MODE\n",
      "imputing missing values for: EMERGENCYSTATE_MODE\n"
     ]
    }
   ],
   "source": [
    "# impute the missing values and create the missing value indicator variables for each non-numeric column.\n",
    "df_non_numeric = df.select_dtypes(exclude=[np.number])\n",
    "non_numeric_cols = df_non_numeric.columns.values\n",
    "\n",
    "for col in non_numeric_cols:\n",
    "    missing = df[col].isnull()\n",
    "    num_missing = np.sum(missing)\n",
    "    \n",
    "    if num_missing > 0:  # only do the imputation for the columns that have missing values.\n",
    "        print('imputing missing values for: {}'.format(col))\n",
    "        df['{}_ismissing'.format(col)] = missing\n",
    "        \n",
    "        top = df[col].describe()['top'] # impute with the most frequent value.\n",
    "        df[col] = df[col].fillna(top)"
   ]
  },
  {
   "cell_type": "code",
   "execution_count": 20,
   "id": "complex-chuck",
   "metadata": {
    "execution": {
     "iopub.execute_input": "2021-11-24T23:45:22.338918Z",
     "iopub.status.busy": "2021-11-24T23:45:22.338918Z",
     "iopub.status.idle": "2021-11-24T23:45:22.369919Z",
     "shell.execute_reply": "2021-11-24T23:45:22.370918Z"
    },
    "papermill": {
     "duration": 0.075999,
     "end_time": "2021-11-24T23:45:22.370918",
     "exception": false,
     "start_time": "2021-11-24T23:45:22.294919",
     "status": "completed"
    },
    "tags": []
   },
   "outputs": [
    {
     "name": "stdout",
     "output_type": "stream",
     "text": [
      "SK_ID_CURR\n",
      "TARGET\n",
      "NAME_CONTRACT_TYPE\n",
      "CODE_GENDER\n",
      "FLAG_OWN_CAR\n",
      "FLAG_OWN_REALTY\n",
      "CNT_CHILDREN\n",
      "AMT_INCOME_TOTAL\n",
      "AMT_CREDIT\n",
      "AMT_ANNUITY\n",
      "AMT_GOODS_PRICE\n",
      "NAME_TYPE_SUITE\n",
      "NAME_INCOME_TYPE\n",
      "NAME_EDUCATION_TYPE\n",
      "NAME_FAMILY_STATUS\n",
      "NAME_HOUSING_TYPE\n",
      "REGION_POPULATION_RELATIVE\n",
      "DAYS_BIRTH\n",
      "DAYS_EMPLOYED\n",
      "DAYS_REGISTRATION\n",
      "DAYS_ID_PUBLISH\n",
      "OWN_CAR_AGE\n",
      "FLAG_MOBIL\n",
      "FLAG_EMP_PHONE\n",
      "FLAG_WORK_PHONE\n",
      "FLAG_CONT_MOBILE\n",
      "FLAG_PHONE\n",
      "FLAG_EMAIL\n",
      "OCCUPATION_TYPE\n",
      "CNT_FAM_MEMBERS\n",
      "REGION_RATING_CLIENT\n",
      "REGION_RATING_CLIENT_W_CITY\n",
      "WEEKDAY_APPR_PROCESS_START\n",
      "HOUR_APPR_PROCESS_START\n",
      "REG_REGION_NOT_LIVE_REGION\n",
      "REG_REGION_NOT_WORK_REGION\n",
      "LIVE_REGION_NOT_WORK_REGION\n",
      "REG_CITY_NOT_LIVE_CITY\n",
      "REG_CITY_NOT_WORK_CITY\n",
      "LIVE_CITY_NOT_WORK_CITY\n",
      "ORGANIZATION_TYPE\n",
      "EXT_SOURCE_1\n",
      "EXT_SOURCE_2\n",
      "EXT_SOURCE_3\n",
      "APARTMENTS_AVG\n",
      "BASEMENTAREA_AVG\n",
      "YEARS_BEGINEXPLUATATION_AVG\n",
      "YEARS_BUILD_AVG\n",
      "COMMONAREA_AVG\n",
      "ELEVATORS_AVG\n",
      "ENTRANCES_AVG\n",
      "FLOORSMAX_AVG\n",
      "FLOORSMIN_AVG\n",
      "LANDAREA_AVG\n",
      "LIVINGAPARTMENTS_AVG\n",
      "LIVINGAREA_AVG\n",
      "NONLIVINGAPARTMENTS_AVG\n",
      "NONLIVINGAREA_AVG\n",
      "APARTMENTS_MODE\n",
      "BASEMENTAREA_MODE\n",
      "YEARS_BEGINEXPLUATATION_MODE\n",
      "YEARS_BUILD_MODE\n",
      "COMMONAREA_MODE\n",
      "ELEVATORS_MODE\n",
      "ENTRANCES_MODE\n",
      "FLOORSMAX_MODE\n",
      "FLOORSMIN_MODE\n",
      "LANDAREA_MODE\n",
      "LIVINGAPARTMENTS_MODE\n",
      "LIVINGAREA_MODE\n",
      "NONLIVINGAPARTMENTS_MODE\n",
      "NONLIVINGAREA_MODE\n",
      "APARTMENTS_MEDI\n",
      "BASEMENTAREA_MEDI\n",
      "YEARS_BEGINEXPLUATATION_MEDI\n",
      "YEARS_BUILD_MEDI\n",
      "COMMONAREA_MEDI\n",
      "ELEVATORS_MEDI\n",
      "ENTRANCES_MEDI\n",
      "FLOORSMAX_MEDI\n",
      "FLOORSMIN_MEDI\n",
      "LANDAREA_MEDI\n",
      "LIVINGAPARTMENTS_MEDI\n",
      "LIVINGAREA_MEDI\n",
      "NONLIVINGAPARTMENTS_MEDI\n",
      "NONLIVINGAREA_MEDI\n",
      "FONDKAPREMONT_MODE\n",
      "HOUSETYPE_MODE\n",
      "TOTALAREA_MODE\n",
      "WALLSMATERIAL_MODE\n",
      "EMERGENCYSTATE_MODE\n",
      "OBS_30_CNT_SOCIAL_CIRCLE\n",
      "DEF_30_CNT_SOCIAL_CIRCLE\n",
      "OBS_60_CNT_SOCIAL_CIRCLE\n",
      "DEF_60_CNT_SOCIAL_CIRCLE\n",
      "DAYS_LAST_PHONE_CHANGE\n",
      "FLAG_DOCUMENT_2\n",
      "FLAG_DOCUMENT_3\n",
      "FLAG_DOCUMENT_4\n",
      "FLAG_DOCUMENT_5\n",
      "FLAG_DOCUMENT_6\n",
      "FLAG_DOCUMENT_7\n",
      "FLAG_DOCUMENT_8\n",
      "FLAG_DOCUMENT_9\n",
      "FLAG_DOCUMENT_10\n",
      "FLAG_DOCUMENT_11\n",
      "FLAG_DOCUMENT_12\n",
      "FLAG_DOCUMENT_13\n",
      "FLAG_DOCUMENT_14\n",
      "FLAG_DOCUMENT_15\n",
      "FLAG_DOCUMENT_16\n",
      "FLAG_DOCUMENT_17\n",
      "FLAG_DOCUMENT_18\n",
      "FLAG_DOCUMENT_19\n",
      "FLAG_DOCUMENT_20\n",
      "FLAG_DOCUMENT_21\n",
      "AMT_REQ_CREDIT_BUREAU_HOUR\n",
      "AMT_REQ_CREDIT_BUREAU_DAY\n",
      "AMT_REQ_CREDIT_BUREAU_WEEK\n",
      "AMT_REQ_CREDIT_BUREAU_MON\n",
      "AMT_REQ_CREDIT_BUREAU_QRT\n",
      "AMT_REQ_CREDIT_BUREAU_YEAR\n",
      "AMT_ANNUITY_ismissing\n",
      "AMT_GOODS_PRICE_ismissing\n",
      "NAME_TYPE_SUITE_ismissing\n",
      "OWN_CAR_AGE_ismissing\n",
      "OCCUPATION_TYPE_ismissing\n",
      "CNT_FAM_MEMBERS_ismissing\n",
      "EXT_SOURCE_1_ismissing\n",
      "EXT_SOURCE_2_ismissing\n",
      "EXT_SOURCE_3_ismissing\n",
      "APARTMENTS_AVG_ismissing\n",
      "BASEMENTAREA_AVG_ismissing\n",
      "YEARS_BEGINEXPLUATATION_AVG_ismissing\n",
      "YEARS_BUILD_AVG_ismissing\n",
      "COMMONAREA_AVG_ismissing\n",
      "ELEVATORS_AVG_ismissing\n",
      "ENTRANCES_AVG_ismissing\n",
      "FLOORSMAX_AVG_ismissing\n",
      "FLOORSMIN_AVG_ismissing\n",
      "LANDAREA_AVG_ismissing\n",
      "LIVINGAPARTMENTS_AVG_ismissing\n",
      "LIVINGAREA_AVG_ismissing\n",
      "NONLIVINGAPARTMENTS_AVG_ismissing\n",
      "NONLIVINGAREA_AVG_ismissing\n",
      "APARTMENTS_MODE_ismissing\n",
      "BASEMENTAREA_MODE_ismissing\n",
      "YEARS_BEGINEXPLUATATION_MODE_ismissing\n",
      "YEARS_BUILD_MODE_ismissing\n",
      "COMMONAREA_MODE_ismissing\n",
      "ELEVATORS_MODE_ismissing\n",
      "ENTRANCES_MODE_ismissing\n",
      "FLOORSMAX_MODE_ismissing\n",
      "FLOORSMIN_MODE_ismissing\n",
      "LANDAREA_MODE_ismissing\n",
      "LIVINGAPARTMENTS_MODE_ismissing\n",
      "LIVINGAREA_MODE_ismissing\n",
      "NONLIVINGAPARTMENTS_MODE_ismissing\n",
      "NONLIVINGAREA_MODE_ismissing\n",
      "APARTMENTS_MEDI_ismissing\n",
      "BASEMENTAREA_MEDI_ismissing\n",
      "YEARS_BEGINEXPLUATATION_MEDI_ismissing\n",
      "YEARS_BUILD_MEDI_ismissing\n",
      "COMMONAREA_MEDI_ismissing\n",
      "ELEVATORS_MEDI_ismissing\n",
      "ENTRANCES_MEDI_ismissing\n",
      "FLOORSMAX_MEDI_ismissing\n",
      "FLOORSMIN_MEDI_ismissing\n",
      "LANDAREA_MEDI_ismissing\n",
      "LIVINGAPARTMENTS_MEDI_ismissing\n",
      "LIVINGAREA_MEDI_ismissing\n",
      "NONLIVINGAPARTMENTS_MEDI_ismissing\n",
      "NONLIVINGAREA_MEDI_ismissing\n",
      "FONDKAPREMONT_MODE_ismissing\n",
      "HOUSETYPE_MODE_ismissing\n",
      "TOTALAREA_MODE_ismissing\n",
      "WALLSMATERIAL_MODE_ismissing\n",
      "EMERGENCYSTATE_MODE_ismissing\n",
      "OBS_30_CNT_SOCIAL_CIRCLE_ismissing\n",
      "DEF_30_CNT_SOCIAL_CIRCLE_ismissing\n",
      "OBS_60_CNT_SOCIAL_CIRCLE_ismissing\n",
      "DEF_60_CNT_SOCIAL_CIRCLE_ismissing\n",
      "DAYS_LAST_PHONE_CHANGE_ismissing\n",
      "AMT_REQ_CREDIT_BUREAU_HOUR_ismissing\n",
      "AMT_REQ_CREDIT_BUREAU_DAY_ismissing\n",
      "AMT_REQ_CREDIT_BUREAU_WEEK_ismissing\n",
      "AMT_REQ_CREDIT_BUREAU_MON_ismissing\n",
      "AMT_REQ_CREDIT_BUREAU_QRT_ismissing\n",
      "AMT_REQ_CREDIT_BUREAU_YEAR_ismissing\n",
      "num_missing\n"
     ]
    }
   ],
   "source": [
    "for i in df.columns:\n",
    "    print(i)"
   ]
  },
  {
   "cell_type": "code",
   "execution_count": 21,
   "id": "saving-controversy",
   "metadata": {
    "execution": {
     "iopub.execute_input": "2021-11-24T23:45:22.494918Z",
     "iopub.status.busy": "2021-11-24T23:45:22.481917Z",
     "iopub.status.idle": "2021-11-24T23:45:22.524919Z",
     "shell.execute_reply": "2021-11-24T23:45:22.523918Z"
    },
    "papermill": {
     "duration": 0.119001,
     "end_time": "2021-11-24T23:45:22.524919",
     "exception": false,
     "start_time": "2021-11-24T23:45:22.405918",
     "status": "completed"
    },
    "tags": []
   },
   "outputs": [],
   "source": [
    "# then drop the ismissing columns\n",
    "df.drop(list(df.filter(regex = '_ismissing')), axis = 1, inplace = True)"
   ]
  },
  {
   "cell_type": "code",
   "execution_count": 22,
   "id": "configured-delicious",
   "metadata": {
    "execution": {
     "iopub.execute_input": "2021-11-24T23:45:22.662919Z",
     "iopub.status.busy": "2021-11-24T23:45:22.603922Z",
     "iopub.status.idle": "2021-11-24T23:45:22.666954Z",
     "shell.execute_reply": "2021-11-24T23:45:22.665954Z"
    },
    "papermill": {
     "duration": 0.105036,
     "end_time": "2021-11-24T23:45:22.666954",
     "exception": false,
     "start_time": "2021-11-24T23:45:22.561918",
     "status": "completed"
    },
    "tags": []
   },
   "outputs": [],
   "source": [
    "df.drop(df[['num_missing']], axis=1, inplace=True)"
   ]
  },
  {
   "cell_type": "markdown",
   "id": "legendary-ecology",
   "metadata": {
    "papermill": {
     "duration": 0.033998,
     "end_time": "2021-11-24T23:45:22.735919",
     "exception": false,
     "start_time": "2021-11-24T23:45:22.701921",
     "status": "completed"
    },
    "tags": []
   },
   "source": [
    "# No more missing values"
   ]
  },
  {
   "cell_type": "code",
   "execution_count": 23,
   "id": "split-landing",
   "metadata": {
    "execution": {
     "iopub.execute_input": "2021-11-24T23:45:22.806922Z",
     "iopub.status.busy": "2021-11-24T23:45:22.805923Z",
     "iopub.status.idle": "2021-11-24T23:45:22.903922Z",
     "shell.execute_reply": "2021-11-24T23:45:22.904954Z"
    },
    "papermill": {
     "duration": 0.135036,
     "end_time": "2021-11-24T23:45:22.904954",
     "exception": false,
     "start_time": "2021-11-24T23:45:22.769918",
     "status": "completed"
    },
    "tags": []
   },
   "outputs": [
    {
     "data": {
      "text/plain": [
       "False"
      ]
     },
     "execution_count": 23,
     "metadata": {},
     "output_type": "execute_result"
    }
   ],
   "source": [
    "df.isnull().any().any()"
   ]
  },
  {
   "cell_type": "markdown",
   "id": "otherwise-jungle",
   "metadata": {
    "papermill": {
     "duration": 0.033998,
     "end_time": "2021-11-24T23:45:22.972916",
     "exception": false,
     "start_time": "2021-11-24T23:45:22.938918",
     "status": "completed"
    },
    "tags": []
   },
   "source": [
    "# No duplicates"
   ]
  },
  {
   "cell_type": "code",
   "execution_count": 24,
   "id": "blessed-moral",
   "metadata": {
    "execution": {
     "iopub.execute_input": "2021-11-24T23:45:23.093920Z",
     "iopub.status.busy": "2021-11-24T23:45:23.092919Z",
     "iopub.status.idle": "2021-11-24T23:45:23.111918Z",
     "shell.execute_reply": "2021-11-24T23:45:23.112920Z"
    },
    "papermill": {
     "duration": 0.107002,
     "end_time": "2021-11-24T23:45:23.112920",
     "exception": false,
     "start_time": "2021-11-24T23:45:23.005918",
     "status": "completed"
    },
    "tags": []
   },
   "outputs": [],
   "source": [
    "df.drop('SK_ID_CURR', inplace=True, axis=\"columns\") # Drop the ID"
   ]
  },
  {
   "cell_type": "code",
   "execution_count": 25,
   "id": "champion-analyst",
   "metadata": {
    "execution": {
     "iopub.execute_input": "2021-11-24T23:45:23.222028Z",
     "iopub.status.busy": "2021-11-24T23:45:23.221026Z",
     "iopub.status.idle": "2021-11-24T23:45:23.235029Z",
     "shell.execute_reply": "2021-11-24T23:45:23.236028Z"
    },
    "papermill": {
     "duration": 0.072,
     "end_time": "2021-11-24T23:45:23.236028",
     "exception": false,
     "start_time": "2021-11-24T23:45:23.164028",
     "status": "completed"
    },
    "tags": []
   },
   "outputs": [],
   "source": [
    "# getting y\n",
    "df_y = pd.DataFrame(df.TARGET)"
   ]
  },
  {
   "cell_type": "code",
   "execution_count": 26,
   "id": "macro-stack",
   "metadata": {
    "execution": {
     "iopub.execute_input": "2021-11-24T23:45:23.404031Z",
     "iopub.status.busy": "2021-11-24T23:45:23.313027Z",
     "iopub.status.idle": "2021-11-24T23:45:23.644066Z",
     "shell.execute_reply": "2021-11-24T23:45:23.644066Z"
    },
    "papermill": {
     "duration": 0.372038,
     "end_time": "2021-11-24T23:45:23.644066",
     "exception": false,
     "start_time": "2021-11-24T23:45:23.272028",
     "status": "completed"
    },
    "tags": []
   },
   "outputs": [],
   "source": [
    "# getting X\n",
    "df.drop(df[['TARGET']], axis=\"columns\", inplace=True)\n",
    "df_X = pd.get_dummies(df)"
   ]
  },
  {
   "cell_type": "code",
   "execution_count": 27,
   "id": "optional-encyclopedia",
   "metadata": {
    "execution": {
     "iopub.execute_input": "2021-11-24T23:45:23.717030Z",
     "iopub.status.busy": "2021-11-24T23:45:23.716028Z",
     "iopub.status.idle": "2021-11-24T23:45:23.737028Z",
     "shell.execute_reply": "2021-11-24T23:45:23.737028Z"
    },
    "papermill": {
     "duration": 0.059,
     "end_time": "2021-11-24T23:45:23.738029",
     "exception": false,
     "start_time": "2021-11-24T23:45:23.679029",
     "status": "completed"
    },
    "tags": []
   },
   "outputs": [
    {
     "name": "stdout",
     "output_type": "stream",
     "text": [
      "df_X :  (98491, 244) \n",
      "df_y :  (98491, 1)\n"
     ]
    }
   ],
   "source": [
    "# verifying shapes\n",
    "print(\"df_X : \", df_X.shape, \"\\ndf_y : \", df_y.shape)"
   ]
  },
  {
   "cell_type": "code",
   "execution_count": 28,
   "id": "nuclear-stress",
   "metadata": {
    "execution": {
     "iopub.execute_input": "2021-11-24T23:45:23.817026Z",
     "iopub.status.busy": "2021-11-24T23:45:23.816029Z",
     "iopub.status.idle": "2021-11-24T23:45:35.753152Z",
     "shell.execute_reply": "2021-11-24T23:45:35.752152Z"
    },
    "papermill": {
     "duration": 11.976125,
     "end_time": "2021-11-24T23:45:35.753152",
     "exception": false,
     "start_time": "2021-11-24T23:45:23.777027",
     "status": "completed"
    },
    "tags": []
   },
   "outputs": [],
   "source": [
    "# store x and y\n",
    "df_X.to_csv(path.join(\"2_dataprep\", \"prep_train_X.csv\"), index=False)\n",
    "df_y.to_csv(path.join(\"2_dataprep\", \"prep_train_y.csv\"), index=False)"
   ]
  }
 ],
 "metadata": {
  "interpreter": {
   "hash": "e2451e044033ce079ff6ade6403154a5557f0feb2168df54e5a5df33c651b5ee"
  },
  "kernelspec": {
   "display_name": "Python 3.7.0 64-bit",
   "name": "python3"
  },
  "language_info": {
   "codemirror_mode": {
    "name": "ipython",
    "version": 3
   },
   "file_extension": ".py",
   "mimetype": "text/x-python",
   "name": "python",
   "nbconvert_exporter": "python",
   "pygments_lexer": "ipython3",
   "version": "3.7.0"
  },
  "papermill": {
   "default_parameters": {},
   "duration": 30.9374,
   "end_time": "2021-11-24T23:45:36.225671",
   "environment_variables": {},
   "exception": null,
   "input_path": "1_data_preparation.ipynb",
   "output_path": "1_data_preparation.ipynb",
   "parameters": {},
   "start_time": "2021-11-24T23:45:05.288271",
   "version": "2.3.3"
  }
 },
 "nbformat": 4,
 "nbformat_minor": 5
}