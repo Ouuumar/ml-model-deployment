{
 "cells": [
  {
   "cell_type": "code",
   "execution_count": null,
   "metadata": {},
   "outputs": [],
   "source": [
    "def train():\n",
    "    import os.path as path\n",
    "    from pickle import load, dump\n",
    "    import warnings\n",
    "\n",
    "    import pandas as pd\n",
    "    import numpy as np\n",
    "\n",
    "    from sklearn import metrics\n",
    "    from sklearn.ensemble import RandomForestClassifier, GradientBoostingClassifier\n",
    "    from xgboost import XGBClassifier\n",
    "\n",
    "    from urllib.parse import urlparse\n",
    "    import mlflow\n",
    "    import mlflow.sklearn\n",
    "\n",
    "    import logging\n",
    "\n",
    "    logging.basicConfig(level=logging.WARN)\n",
    "    logger = logging.getLogger(__name__)\n",
    "\n",
    "\n",
    "    def eval_score(X_test, y_test, 'xgBoost.pkl'): # fix the 'xgBoost.pkl'\n",
    "        preds = make_prediction(X_test, )\n",
    "        clf = load_model()\n",
    "        return metrics.accuracy_score(y_test, preds)\n",
    "\n",
    "    def make_prediction(X_test, model_name):\n",
    "        clf = load_model(model_name)\n",
    "        return clf.predict(X_test)\n",
    "\n",
    "    def load_model(model_name):\n",
    "        return load(open(path.join('6_models', \"{}\").format(model_name), 'rb'))\n",
    "\n",
    "\n",
    "    if __name__ == \"__main__\":\n",
    "\n",
    "        warnings.filterwarnings(\"ignore\")\n",
    "        np.random.seed(40)\n",
    "\n",
    "        print(\"\\nInitializing the program\\n...\")\n",
    "\n",
    "        X_test = pd.read_csv(path.join(\"3_X_fitted_dataframe\", \"X_test_scaled.csv\"))\n",
    "        X_train = pd.read_csv(path.join(\"3_X_fitted_dataframe\", \"X_train_scaled.csv\"))\n",
    "        y_train = pd.read_csv(path.join('4_y_dataframe', 'y_train.csv'))   \n",
    "        y_test = pd.read_csv(path.join('4_y_dataframe', 'y_test.csv'))\n",
    "\n",
    "        try:\n",
    "            print(\"\\nData loaded\\n...\")\n",
    "        except Exception as e:\n",
    "            logger.exception(\n",
    "                \"Unable to download training & test CSV, check your internet connection. Error: %s\",\n",
    "            )\n",
    "\n",
    "        # start the mlflow run, to fit, and score\n",
    "        with mlflow.start_run():\n",
    "            clf = load_model()\n",
    "            clf.fit(X_train, y_train)\n",
    "\n",
    "            score = eval_score(X_test, y_test, 'xgBoost.pkl')\n",
    "            mlflow.log_metric(\"accuracy\", score)\n",
    "            print(\"\\nLogged accuracy\\n...\")\n",
    "\n",
    "            tracking_url_type_store = urlparse(mlflow.get_tracking_uri()).scheme\n",
    "            print(\"\\nTracking to MLflow UI\\n...\")\n",
    "\n",
    "            mlflow.sklearn.log_model(clf, \"model\")\n",
    "            print(\"\\nModel registered <3\\n...\")\n"
   ]
  },
  {
   "cell_type": "code",
   "execution_count": null,
   "metadata": {},
   "outputs": [],
   "source": [
    "train()"
   ]
  }
 ],
 "metadata": {
  "interpreter": {
   "hash": "e2451e044033ce079ff6ade6403154a5557f0feb2168df54e5a5df33c651b5ee"
  },
  "kernelspec": {
   "display_name": "Python 3.7.0 64-bit",
   "language": "python",
   "name": "python3"
  },
  "language_info": {
   "codemirror_mode": {
    "name": "ipython",
    "version": 3
   },
   "file_extension": ".py",
   "mimetype": "text/x-python",
   "name": "python",
   "nbconvert_exporter": "python",
   "pygments_lexer": "ipython3",
   "version": "3.7.0"
  },
  "orig_nbformat": 4
 },
 "nbformat": 4,
 "nbformat_minor": 2
}
