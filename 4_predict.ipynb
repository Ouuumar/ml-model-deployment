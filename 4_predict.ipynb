{
 "cells": [
  {
   "cell_type": "code",
   "execution_count": 1,
   "metadata": {},
   "outputs": [],
   "source": [
    "import warnings\n",
    "warnings.filterwarnings('ignore')"
   ]
  },
  {
   "cell_type": "code",
   "execution_count": 2,
   "metadata": {},
   "outputs": [],
   "source": [
    "import pandas as pd \n",
    "from pickle import load\n",
    "import os.path as path\n",
    "from pickle import load, dump\n",
    "\n",
    "from sklearn.ensemble import RandomForestClassifier\n",
    "from sklearn.ensemble import GradientBoostingClassifier\n",
    "from xgboost import XGBClassifier"
   ]
  },
  {
   "cell_type": "code",
   "execution_count": 3,
   "metadata": {},
   "outputs": [],
   "source": [
    "# load dataframes\n",
    "X_test_scaled = pd.read_csv(path.join(\"3_X_fitted_dataframe\", \"X_test_scaled.csv\"))\n",
    "y_test = pd.read_csv(path.join(\"4_y_dataframe\", \"y_test.csv\"))"
   ]
  },
  {
   "cell_type": "code",
   "execution_count": 4,
   "metadata": {},
   "outputs": [],
   "source": [
    "# load models\n",
    "rf_clf = load(open(path.join('6_models', 'randomforest.pkl'), 'rb'))\n",
    "XGB_clf = load(open(path.join('6_models', 'xgBoost.pkl'), 'rb'))\n",
    "GBoost_clf = load(open(path.join('6_models', 'GradientBoosting.pkl'), 'rb'))"
   ]
  },
  {
   "cell_type": "code",
   "execution_count": 5,
   "metadata": {},
   "outputs": [
    {
     "name": "stdout",
     "output_type": "stream",
     "text": [
      "0.9387108136667841\n"
     ]
    }
   ],
   "source": [
    "# score with xgBoost\n",
    "score_xgb = XGB_clf.score(X_test_scaled, y_test)\n",
    "print(score_xgb)"
   ]
  },
  {
   "cell_type": "code",
   "execution_count": 6,
   "metadata": {},
   "outputs": [
    {
     "name": "stdout",
     "output_type": "stream",
     "text": [
      "0.9397675237759775\n"
     ]
    }
   ],
   "source": [
    "# score with GradientBoosting\n",
    "score_gb = GBoost_clf.score(X_test_scaled, y_test)\n",
    "print(score_gb)"
   ]
  },
  {
   "cell_type": "code",
   "execution_count": 7,
   "metadata": {},
   "outputs": [
    {
     "name": "stdout",
     "output_type": "stream",
     "text": [
      "0.9401197604790419\n"
     ]
    }
   ],
   "source": [
    "# score with Random Forest\n",
    "score_rf = rf_clf.score(X_test_scaled, y_test)\n",
    "print(score_rf)"
   ]
  },
  {
   "cell_type": "code",
   "execution_count": 8,
   "metadata": {},
   "outputs": [],
   "source": [
    "# predict with xgBoost\n",
    "predXGB = XGB_clf.predict(X_test_scaled)"
   ]
  },
  {
   "cell_type": "code",
   "execution_count": 9,
   "metadata": {},
   "outputs": [],
   "source": [
    "# predict with GradientBoosting\n",
    "predGBoost = GBoost_clf.predict(X_test_scaled)"
   ]
  },
  {
   "cell_type": "code",
   "execution_count": 10,
   "metadata": {},
   "outputs": [],
   "source": [
    "# predict with Random Forest\n",
    "predRF = rf_clf.predict(X_test_scaled)"
   ]
  }
 ],
 "metadata": {
  "interpreter": {
   "hash": "e2451e044033ce079ff6ade6403154a5557f0feb2168df54e5a5df33c651b5ee"
  },
  "kernelspec": {
   "display_name": "Python 3.7.0 64-bit",
   "language": "python",
   "name": "python3"
  },
  "language_info": {
   "codemirror_mode": {
    "name": "ipython",
    "version": 3
   },
   "file_extension": ".py",
   "mimetype": "text/x-python",
   "name": "python",
   "nbconvert_exporter": "python",
   "pygments_lexer": "ipython3",
   "version": "3.7.0"
  },
  "orig_nbformat": 4
 },
 "nbformat": 4,
 "nbformat_minor": 2
}
